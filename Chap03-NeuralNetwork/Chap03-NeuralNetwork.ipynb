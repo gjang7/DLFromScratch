{
 "cells": [
  {
   "cell_type": "markdown",
   "metadata": {},
   "source": [
    "## Copyrights\n",
    "1. textbook official repository: https://github.com/WegraLee/deep-learning-from-scratch\n",
    "    * 아래 python code들은 [chapter 3](https://github.com/WegraLee/deep-learning-from-scratch/tree/master/ch03)에서 가져왔습니다.\n",
    "1. fork source: https://github.com/ExcelsiorCJH/DLFromScratch [(chapter3)](https://nbviewer.org/github/ExcelsiorCJH/DLFromScratch/blob/master/Chap03-NeuralNetwork/Chap03-NeuralNetwork.ipynb)\n",
    "1. additional repository: https://github.com/SDRLurker/deep-learning [(3장)](https://nbviewer.org/github/SDRLurker/deep-learning/blob/master/3%EC%9E%A5.ipynb)\n",
    "1. [plot_mnist_filters.ipynb](plot_mnist_filters.ipynb)는 \n",
    "[Scikit-learn MNIST 예제](https://scikit-learn.org/stable/auto_examples/neural_networks/plot_mnist_filters.html)의 \n",
    "내용으로 작성되었습니다.\n",
    "\n",
    "### Customized by Gil-Jin Jang"
   ]
  },
  {
   "cell_type": "markdown",
   "metadata": {},
   "source": [
    "## 파일 설명\n",
    "\n",
    "| 파일명 | 파일 용도 | 관련 절 | 페이지 |\n",
    "|:--   |:--      |:--    |:--      |\n",
    "| [Chap03-NeuralNetwork.ipynb](Chap03-NeuralNetwork.ipynb) | 내용 + 실행가능 코드 | 3.1-3.7 | \n",
    "| [plot_mnist_filters.ipynb](plot_mnist_filters.ipynb) | MNIST Neural Network 학습 및 필터 시각화 예제 | APPENDIX | \n",
    "| [mnist_show.py](https://github.com/WegraLee/deep-learning-from-scratch/blob/master/ch03/mnist_show.py) | MNIST 데이터셋을 읽어와 훈련 데이터 중 0번째 이미지를 화면에 출력합니다. | 3.6.1 손글씨 데이터셋 | 99 |\n",
    "| [neuralnet_mnist.py](neuralnet_mnist.py) | 신경망으로 손글씨 숫자 그림을 추론합니다. 입력층, 은닉층1, 은닉층2, 출력층의 뉴런 수는 각각 784, 50, 100, 10입니다. | 3.6.2 신경망의 추론 처리 | 100 |\n",
    "| [neuralnet_mnist_batch.py](https://github.com/WegraLee/deep-learning-from-scratch/blob/master/ch03/mnist_show.py) | neuralnet_mnist.py에 배치 처리 기능을 더했습니다. | 3.6.3 배치 처리 | 104 |\n",
    "| [relu.py](https://github.com/WegraLee/deep-learning-from-scratch/blob/master/ch03/relu.py) | ReLU 함수를 구현한 코드입니다. | 3.2.7 ReLU 함수 | 76 |\n",
    "| [sample_weight.pkl](sample_weight.pkl) | 미리 학습해둔 가종치 매개변수의 값들입니다. | 3.6.2 신경망의 추론 처리 | 100 |\n",
    "| [sig_step_compare.py](https://github.com/WegraLee/deep-learning-from-scratch/blob/master/ch03/sig_step_compare.py) | 시그모이드 함수와 계단 함수의 그래프 모양을 비교해봅니다. | 3.2.5 시그모이드 함수와 계단 함수 비교 | 74 |\n",
    "| [sigmoid.py](https://github.com/WegraLee/deep-learning-from-scratch/blob/master/ch03/sigmoid.py) | 시그모이드 함수를 구현한 코드입니다. | 3.2.4 시그모이드 함수 구현하기 | 72 |\n",
    "| [step_function.py](https://github.com/WegraLee/deep-learning-from-scratch/blob/master/ch03/step_function.py) | 계단 함수를 구현한 코드입니다. | 3.2.3 계단 함수의 그래프 | 70 |"
   ]
  },
  {
   "cell_type": "markdown",
   "metadata": {},
   "source": [
    "# Chap03 - 신경망\n",
    "\n",
    "\n",
    "## 목차\n",
    "```\n",
    "3.1 퍼셉트론에서 신경망으로 \n",
    "__3.1.1 신경망의 예 \n",
    "__3.1.2 퍼셉트론 복습 \n",
    "__3.1.3 활성화 함수의 등장 \n",
    "3.2 활성화 함수 \n",
    "__3.2.1 시그모이드 함수 \n",
    "__3.2.2 계단 함수 구현하기 \n",
    "__3.2.3 계단 함수의 그래프 \n",
    "__3.2.4 시그모이드 함수 구현하기 \n",
    "__3.2.5 시그모이드 함수와 계단 함수 비교 \n",
    "__3.2.6 비선형 함수 \n",
    "__3.2.7 ReLU 함수 \n",
    "3.3 다차원 배열의 계산 \n",
    "__3.3.1 다차원 배열 \n",
    "__3.3.2 행렬의 내적 \n",
    "__3.3.3 신경망의 내적 \n",
    "3.4 3층 신경망 구현하기 \n",
    "__3.4.1 표기법 설명 \n",
    "__3.4.2 각 층의 신호 전달 구현하기 \n",
    "__3.4.3 구현 정리 \n",
    "3.5 출력층 설계하기 \n",
    "__3.5.1 항등 함수와 소프트맥스 함수 구현하기 \n",
    "__3.5.2 소프트맥스 함수 구현 시 주의점 \n",
    "__3.5.3 소프트맥스 함수의 특징 \n",
    "__3.5.4 출력층의 뉴런 수 정하기\n",
    "3.6 손글씨 숫자 인식 \n",
    "__3.6.1 MNIST 데이터셋 \n",
    "__3.6.2 신경망의 추론 처리 \n",
    "__3.6.3 배치 처리 \n",
    "```"
   ]
  },
  {
   "cell_type": "markdown",
   "metadata": {},
   "source": [
    " "
   ]
  },
  {
   "cell_type": "markdown",
   "metadata": {},
   "source": [
    "## 3.1 퍼셉트론에서 신경망으로"
   ]
  },
  {
   "cell_type": "markdown",
   "metadata": {},
   "source": [
    "### 3.1.1 신경망의 예\n",
    "\n",
    "신경망을 그림으로 나타내면 아래와 같다. 입력층, 은닉층, 출력층은 차례로 0층, 1층, 2층이라 하고 아래의 그림은 **2층 신경망**이다. 그 이유는 가중치($w$, weight)를 갖는 층은 2개뿐이기 때문이다.\n",
    "\n",
    "<!-- <img src=\"./images/3-01.png\" width=\"50%\" height=\"50%\"/> -->\n",
    "<img src=\"./images/neurons.png\" width=\"80%\" height=\"80%\"/>\n",
    "\n",
    "출처: http://happycontrol.tistory.com/entry/인공신경망1"
   ]
  },
  {
   "cell_type": "markdown",
   "metadata": {},
   "source": [
    " "
   ]
  },
  {
   "cell_type": "markdown",
   "metadata": {},
   "source": [
    "### 3.1.2 퍼셉트론 복습\n",
    "\n",
    "신경망의 신호 전달 방법을 알아보기 전에 [2장](https://github.com/ExcelsiorCJH/DLFromScratch/blob/master/Chap02-Perceptron/Chap02-Perceptron.ipynb)에서 배웠던 퍼셉트론을 복습해보자. \n",
    "\n",
    "<img src=\"./images/3-03.png\" width=\"30%\" height=\"30%\"/>\n",
    "\n",
    "$$\n",
    "y=\\begin{cases} 0\\quad (b + w_1x_1 +w_2x_2 \\le 0) \\\\ 1 \\quad (b + w_1x_1 + w_2x_2 > 0) \\end{cases}\n",
    "$$\n",
    "\n",
    "여기서 $b$는 **편향(bias)** 을 나타내는 매개변수로 뉴런이 얼마나 쉽게 활성화되느냐를 제어한다. $w_1$과 $w_2$는 각 신호의 **가중치(weight)** 를 나타내는 매개변수로, 각 신호의 영향력을 제어한다."
   ]
  },
  {
   "cell_type": "markdown",
   "metadata": {},
   "source": [
    "위의 식을 다음과 같이 더 간결한 형태로 나타내보자.\n",
    "\n",
    "$$\n",
    "y = h(b+ w_1 x_1 + w_2 x_2)\n",
    "$$\n",
    "$$\n",
    "y = h(x)=\\begin{cases} 0\\quad (x \\le 0) \\\\ 1 \\quad (x > 0) \\end{cases}\n",
    "$$\n",
    "\n",
    "위의 식에서 입력의 총합($b+ w_1 x_1 + w_2 x_2$)이 $h(x)$라는 함수를 거쳐 변환된 뒤, 그 출력값이 $y$가 된다."
   ]
  },
  {
   "cell_type": "markdown",
   "metadata": {},
   "source": [
    " "
   ]
  },
  {
   "cell_type": "markdown",
   "metadata": {},
   "source": [
    "### 3.1.3 활성화 함수의 등장\n",
    "\n",
    "위에서 $h(x)$라는 함수처럼, 입력 신호의 총합을 출력 신호로 변환하는 함수를 **활성화 함수(activation function)** 이라고 한다. 이름에서도 알 수 있듯이 활성화 함수는 입력 신호의 총합이 **활성화를 일으키는지를 정하는 역할**을 한다. 위의 식을 다시 써보고 이를 그림으로 나타내 보자.\n",
    "\n",
    "$$\n",
    "a = b + w_1 x_1 + w_2 x_2\n",
    "$$\n",
    "$$\n",
    "y = h(a)\n",
    "$$\n",
    "\n",
    "<img src=\"./images/3-04.png\" width=\"30%\" height=\"30%\"/>"
   ]
  },
  {
   "cell_type": "markdown",
   "metadata": {},
   "source": [
    " "
   ]
  },
  {
   "cell_type": "markdown",
   "metadata": {},
   "source": [
    "## 3.2 활성화 함수\n",
    "\n",
    "활성화 함수는 임계값(0)을 경계로 출력이 변하는데, 이런 함수를 **계단함수(step function)** 라 한다. 따라서, \"퍼셉트론에서는 활성화 함수로 계단 함수를 이용한다\"라고 할 수 있다. \n",
    "\n",
    "<!-- 그렇다면, 계단함수 말고 다른 함수를 사용하면 어떻게 될까? 이것이 바로 신경망으로 나아가는 핵심이 된다. -->"
   ]
  },
  {
   "cell_type": "markdown",
   "metadata": {},
   "source": [
    "### 3.2.1 시그모이드 함수\n",
    "\n",
    "신경망에서는 활성화 함수로 시그모이드 함수를 이용하여 신호를 변환하고, 그 변환된 신호를 다음 뉴런에 전달한다. 2장에서 알아본 퍼셉트론과 신경망과의 주된 차이는 활성화 함수라고 할 수 있다.\n",
    "\n",
    "신경망에서 자주 사용되는 활성화 함수 중 하나는 **시그모이드 함수(sigmoid function)**다. 시그모이드(sigmoid)란 'S자 모양'이라는 뜻으로 그래프의 모양을 따서 지은 것이라 한다.\n",
    "\n",
    "$$\n",
    "h(x) = \\frac{1}{1 + \\text{exp}(-x)}\n",
    "\n",
    "\n",
    "$$\n",
    "\n",
    "<img src=\"./images/3-07.png\" width=\"50%\" height=\"50%\"/>"
   ]
  },
  {
   "cell_type": "markdown",
   "metadata": {},
   "source": [
    "신경망에서는 활성화 함수로 시그모이드 함수를 이용하여 신호를 변환하고, 그 변환된 신호를 다음 뉴런에 전달한다. 2장에서 알아본 퍼셉트론과 신경망과의 주된 차이는 활성화 함수라고 할 수 있다."
   ]
  },
  {
   "cell_type": "markdown",
   "metadata": {},
   "source": [
    " "
   ]
  },
  {
   "cell_type": "markdown",
   "metadata": {},
   "source": [
    "### 3.2.2 계단 함수 구현하기\n",
    "계단 함수: 입력이 0을 넘으면 1을 출력, 그 외에는 0을 출력"
   ]
  },
  {
   "cell_type": "code",
   "execution_count": 1,
   "metadata": {},
   "outputs": [],
   "source": [
    "# 인수 x는 실수(부동소수점)만 받아들임.\n",
    "# 넘파이 배열을 인수로 넣을 수 없음.\n",
    "def step_function(x):\n",
    "    if x > 0: return 1\n",
    "    else: return 0"
   ]
  },
  {
   "cell_type": "code",
   "execution_count": 2,
   "metadata": {},
   "outputs": [],
   "source": [
    "# 넘파이의 트릭을 사용하여 구현. 넘파이 배열도 인수로 넣을 수 있음.\n",
    "# in textbook, type 'np.int' is used, but deprecated. \n",
    "# use plain type 'int' instead\n",
    "def step_function(x):\n",
    "    y = x > 0\n",
    "    return y.astype(int)"
   ]
  },
  {
   "cell_type": "code",
   "execution_count": 3,
   "metadata": {},
   "outputs": [
    {
     "name": "stdout",
     "output_type": "stream",
     "text": [
      "[-1.  1.  2.]\n"
     ]
    }
   ],
   "source": [
    "import numpy as np\n",
    "x = np.array([-1.0, 1.0, 2.0])\n",
    "print(x)"
   ]
  },
  {
   "cell_type": "markdown",
   "metadata": {},
   "source": [
    "- 넘파이 배열에서 부등호 연산을 수행하면 원소 각각에 부등호 연산을 수행한 bool배열이 생성\n",
    "- 배열 x의 원소 각각이 0보다 크면 True, 0 이하면 False로 변환한 새로운 배열 y가 생성\n",
    "- astype() 메서드: 넘파이 배열의 자료형을 변환\n",
    "- 파이썬에서는 bool을 int로 변환하면 True는 1로, False는 0으로 변환"
   ]
  },
  {
   "cell_type": "code",
   "execution_count": 4,
   "metadata": {},
   "outputs": [
    {
     "name": "stdout",
     "output_type": "stream",
     "text": [
      "[False  True  True]\n",
      "<class 'numpy.ndarray'>\n"
     ]
    }
   ],
   "source": [
    "y = x > 0\n",
    "print(y)\n",
    "print(type(y))"
   ]
  },
  {
   "cell_type": "markdown",
   "metadata": {},
   "source": [
    "### 3.2.3 계단 함수의 그래프\n",
    "계단 함수: 입력이 0을 넘으면 1을 출력, 그 외에는 0을 출력"
   ]
  },
  {
   "cell_type": "code",
   "execution_count": 5,
   "metadata": {},
   "outputs": [],
   "source": [
    "import numpy as np\n",
    "import matplotlib.pylab as plt"
   ]
  },
  {
   "cell_type": "code",
   "execution_count": 6,
   "metadata": {},
   "outputs": [
    {
     "data": {
      "image/png": "[encoded data removed]",
      "text/plain": [
       "<Figure size 432x288 with 1 Axes>"
      ]
     },
     "metadata": {},
     "output_type": "display_data"
    }
   ],
   "source": [
    "def step_function(x):\n",
    "    return np.array(x > 0, dtype=np.int)\n",
    "\n",
    "x = np.arange(-5.0, 5.0, 0.1)\n",
    "y = step_function(x)\n",
    "\n",
    "plt.plot(x, y)\n",
    "plt.ylim(-0.1, 1.1)  # y축의 범위 지정\n",
    "plt.show()"
   ]
  },
  {
   "cell_type": "markdown",
   "metadata": {},
   "source": [
    " "
   ]
  },
  {
   "cell_type": "markdown",
   "metadata": {},
   "source": [
    "### 3.2.1, 3.2.4 시그모이드 함수 구현하기\n",
    "\n",
    "<!-- 신경망에서는 활성화 함수로 시그모이드 함수를 이용하여 신호를 변환하고, 그 변환된 신호를 다음 뉴런에 전달한다. 2장에서 알아본 퍼셉트론과 신경망과의 주된 차이는 활성화 함수라고 할 수 있다.\n",
    "\n",
    "신경망에서 자주 사용되는 활성화 함수 중 하나는 **시그모이드 함수(sigmoid function)**다. 시그모이드(sigmoid)란 'S자 모양'이라는 뜻으로 그래프의 모양을 따서 지은 것이라 한다.\n",
    "-->\n",
    "\n",
    "$$\n",
    "h(x) = \\frac{1}{1 + \\text{exp}(-x)}\n",
    "$$\n",
    "\n",
    "<img src=\"./images/3-07.png\" width=\"50%\" height=\"50%\"/>"
   ]
  },
  {
   "cell_type": "markdown",
   "metadata": {},
   "source": [
    "- np.exp(-x)는 수식 $e^{-x}$에 해당. 인수 $x$가 넘파이 배열이어도 올바른 결과가 나옴\n",
    "- __브로드캐스트__: 넘파이 배열과 스칼라 값의 연산을 넘파이 배열의 원소 각각과 스칼라 값의 연산으로 바꿔 수행"
   ]
  },
  {
   "cell_type": "code",
   "execution_count": 7,
   "metadata": {},
   "outputs": [],
   "source": [
    "def sigmoid(x):\n",
    "    return 1 / (1 + np.exp(-x))"
   ]
  },
  {
   "cell_type": "code",
   "execution_count": 8,
   "metadata": {},
   "outputs": [
    {
     "name": "stdout",
     "output_type": "stream",
     "text": [
      "[2. 3. 4.]\n"
     ]
    }
   ],
   "source": [
    "t = np.array([1.0, 2.0, 3.0])\n",
    "print(1.0 + t)"
   ]
  },
  {
   "cell_type": "code",
   "execution_count": 9,
   "metadata": {},
   "outputs": [
    {
     "name": "stdout",
     "output_type": "stream",
     "text": [
      "[1.         0.5        0.33333333]\n"
     ]
    }
   ],
   "source": [
    "# np.exp(-x)가 넘파이 배열을 반환하기 때문에 1 / 1 + np.exp(-x))도 \n",
    "# 넘파이 배열의 각 원소에 연산을 수행한 결과를 냄\n",
    "print(1.0 / t)"
   ]
  },
  {
   "cell_type": "markdown",
   "metadata": {},
   "source": [
    "Draw sigmoid function:"
   ]
  },
  {
   "cell_type": "code",
   "execution_count": 10,
   "metadata": {},
   "outputs": [
    {
     "data": {
      "image/png": "[encoded data removed]",
      "text/plain": [
       "<Figure size 432x288 with 1 Axes>"
      ]
     },
     "metadata": {},
     "output_type": "display_data"
    }
   ],
   "source": [
    "def sigmoid(x):\n",
    "    return 1 / (1 + np.exp(-x))\n",
    "\n",
    "x = np.arange(-5.0, 5.0, 0.1)\n",
    "y = sigmoid(x)\n",
    "\n",
    "plt.plot(x, y)\n",
    "plt.ylim(-0.1, 1.1)  # y축의 범위 지정\n",
    "plt.show()"
   ]
  },
  {
   "cell_type": "code",
   "execution_count": 11,
   "metadata": {},
   "outputs": [
    {
     "data": {
      "text/plain": [
       "array([0.26894142, 0.73105858, 0.88079708])"
      ]
     },
     "execution_count": 11,
     "metadata": {},
     "output_type": "execute_result"
    }
   ],
   "source": [
    "x = np.array([-1., 1., 2.])\n",
    "sigmoid(x)"
   ]
  },
  {
   "cell_type": "markdown",
   "metadata": {},
   "source": [
    " "
   ]
  },
  {
   "cell_type": "markdown",
   "metadata": {},
   "source": [
    "### 3.2.5 시그모이드 함수와 계단 함수 비교\n",
    "\n",
    "계단함수와 시그모이드 함수를 각각 살펴보았다. 이제 두 함수의 차이가 무엇인지 알아보자. "
   ]
  },
  {
   "cell_type": "code",
   "execution_count": 12,
   "metadata": {},
   "outputs": [
    {
     "data": {
      "image/png": "[encoded data removed]",
      "text/plain": [
       "<Figure size 432x288 with 1 Axes>"
      ]
     },
     "metadata": {},
     "output_type": "display_data"
    }
   ],
   "source": [
    "x = np.arange(-5.0, 5.0, 0.1)\n",
    "y1 = sigmoid(x)\n",
    "y2 = step_function(x)\n",
    "\n",
    "plt.plot(x, y1)\n",
    "plt.plot(x, y2, 'k--')\n",
    "plt.ylim(-0.1, 1.1) # y축 범위 지정\n",
    "plt.show()"
   ]
  },
  {
   "cell_type": "markdown",
   "metadata": {},
   "source": [
    " "
   ]
  },
  {
   "cell_type": "markdown",
   "metadata": {},
   "source": [
    "위의 그래프에서 볼 수 있듯이, 계단함수와 시그모이드 함수의 차이는 **'연속성'** 이다. 시그모이드 함수는 곡선이며 입력에 따라 출력이 연속적으로 변하지만, 계단함수는 0을 기준으로 출력이 불연속적으로 변한다. 이러한 시그모이드 함수의 연속성이 신경망 학습에서 중요한 역할을 하게된다."
   ]
  },
  {
   "cell_type": "markdown",
   "metadata": {},
   "source": [
    "그리고 계단함수는 0과 1 중 하나의 값만 반환하는 반면, 시그모이드 함수는 0과 1사이의 실수(0.723..., 0.232... 등)를 반환한다. 즉, 퍼셉트론에서는 뉴런(노드)사이에 0 혹은 1이 흘렀다면 신경망에서는 연속적인 실수가 흐른다. 계단함수와 시그모이드 함수 둘 다 입력이 중요하면 큰 값(1에 가까운)을 출력하고 입력이 중요하지 않으면 작은값(0에 가까운)을 출력하며, 입력이 아무리 크거나 작아도 시그모이드 함수의 출력은 항상 0에서 1사이이다."
   ]
  },
  {
   "cell_type": "markdown",
   "metadata": {},
   "source": [
    " "
   ]
  },
  {
   "cell_type": "markdown",
   "metadata": {},
   "source": [
    "### 3.2.6 비선형 함수 \n",
    "\n",
    "\n",
    "> **신경망에서는 활성화 함수로 비선형 함수를 사용해야한다.** \n",
    "\n",
    "시그모이드 함수는 **비선형 함수(non-linear function)**이다. \n",
    "\n",
    "> **활성화 함수로 선형함수를 사용하지 않는 이유는?**\n",
    "\n",
    "\n",
    "선형함수를 이용하면 신경망의 층을 깊게 하는 의미가 없기 때문이다. 예를 들어 활성화 함수로 $h(x) = cx$를 사용하여 3층 신경망을 구성한다고 하면 $y(x) = h(h(h(x)))$이 되며 이것은 $y(x) = c \\times c \\times c \\times x = c^3 x$ 같다. 즉, 활성화 함수를 $h(x) = c^3 x$로 한번만 사용하여 나타낼 수 있기 때문에 여러 층으로 구성된 신경망을 하나의 층으로 쉽게 나타낼 수 있다."
   ]
  },
  {
   "cell_type": "code",
   "execution_count": 13,
   "metadata": {},
   "outputs": [
    {
     "name": "stdout",
     "output_type": "stream",
     "text": [
      "h1(x) =  70\n",
      "h1(h1(h1(x))) =  7000\n",
      "h3(x) =  7000\n",
      "ha(x) =  7000\n"
     ]
    }
   ],
   "source": [
    "def h1(x): return 10*x\n",
    "\n",
    "def h3(x): return h1(h1(h1(x)))\n",
    "\n",
    "def ha(x): return (10**3)*x\n",
    "\n",
    "x = 7\n",
    "print('h1(x) = ', h1(x))\n",
    "print('h1(h1(h1(x))) = ', h1(h1(h1(x))))\n",
    "print('h3(x) = ', h3(x))\n",
    "print('ha(x) = ', ha(x))"
   ]
  },
  {
   "cell_type": "markdown",
   "metadata": {},
   "source": [
    "### 3.2.7 ReLU 함수\n",
    "\n",
    "Step과 sigmoid, 그리고 선형 활성화 함수들은 단점이 있다.\n",
    "\n",
    "1. step function은 불연속 함수이기 때문에 양방향 미분이 존재하지 않는다.\n",
    "2. sigmoid function은 연속함수이지만 gradient vanishing 이 있어나기 쉽다. \n",
    "3. linear function 은 gradient vanishing 이 없지만 층을 여러 개 쌓는 효과가 없다. \n",
    "\n",
    "이 세가지 단점을 해결하기 위하여 다음의 **ReLU (Rectified Linear Unit)** 활성화 함수를 사용한다.\n",
    "\n",
    "ReLU는 입력이 0을 넘으면 입력 그대로 출력하고, 0 이하이면 0을 출력하는 함수이다. \n",
    "\n",
    "$$\n",
    "h(x)=\\begin{cases} x \\quad (x > 0) \\\\ 0 \\quad (x \\le 0) \\end{cases}\n",
    "$$\n",
    "\n",
    "<img src=\"./images/3-09.png\" width=\"50%\" height=\"50%\"/>\n",
    "\n",
    "> **ReLU 의 특징**\n",
    "\n",
    "1. 연속함수이며 미분가능하다. 단, 오른쪽 미분과 왼쪽 미분이 다르다.\n",
    "2. 미분은 step function. 즉, 오류가 있거나 필요할 때는 학습하고, 정답이 맞으면 학습을 하지 않는 것을 가능하게 한다.\n",
    "3. 0보다 큰 출력에 대해서는 gradient vashnishing 이 없다. 따라서 층을 깊게 쌓는 것이 가능하다. "
   ]
  },
  {
   "cell_type": "code",
   "execution_count": 14,
   "metadata": {},
   "outputs": [],
   "source": [
    "def relu(x):\n",
    "    return np.maximum(0, x)"
   ]
  },
  {
   "cell_type": "code",
   "execution_count": 15,
   "metadata": {},
   "outputs": [
    {
     "data": {
      "image/png": "[encoded data removed]",
      "text/plain": [
       "<Figure size 432x288 with 1 Axes>"
      ]
     },
     "metadata": {},
     "output_type": "display_data"
    }
   ],
   "source": [
    "# drawing ReLU function\n",
    "x = np.arange(-5.0, 5.0, 0.1)\n",
    "y = relu(x)\n",
    "\n",
    "plt.plot(x, y)\n",
    "plt.ylim(-1.0, 5.5)  # y축의 범위 지정\n",
    "plt.show()"
   ]
  },
  {
   "cell_type": "markdown",
   "metadata": {},
   "source": [
    " "
   ]
  },
  {
   "cell_type": "markdown",
   "metadata": {},
   "source": [
    " "
   ]
  },
  {
   "cell_type": "markdown",
   "metadata": {},
   "source": [
    "## 3.3 다차원 배열의 계산"
   ]
  },
  {
   "cell_type": "markdown",
   "metadata": {},
   "source": [
    "### 3.3.1 다차원 배열\n",
    "\n",
    "여기서는`numpy`를 이용한 다차원 배열에 대해 알아보자."
   ]
  },
  {
   "cell_type": "code",
   "execution_count": 16,
   "metadata": {},
   "outputs": [],
   "source": [
    "import numpy as np"
   ]
  },
  {
   "cell_type": "code",
   "execution_count": 17,
   "metadata": {},
   "outputs": [
    {
     "name": "stdout",
     "output_type": "stream",
     "text": [
      "[1 2 3 4]\n",
      "np.ndim(A) : 1\n",
      "A.shape : (4,)\n",
      "A.shape[0] : 4\n"
     ]
    }
   ],
   "source": [
    "# 1차원 배열\n",
    "A = np.array([1, 2, 3, 4])\n",
    "print(A)\n",
    "print('np.ndim(A) :', np.ndim(A))\n",
    "print('A.shape :', A.shape)\n",
    "print('A.shape[0] :', A.shape[0])"
   ]
  },
  {
   "cell_type": "code",
   "execution_count": 18,
   "metadata": {},
   "outputs": [
    {
     "name": "stdout",
     "output_type": "stream",
     "text": [
      "[[1 2]\n",
      " [3 4]\n",
      " [5 6]]\n",
      "np.ndim(B) : 2\n",
      "B.shape : (3, 2)\n",
      "B.shape[0] : 3\n"
     ]
    }
   ],
   "source": [
    "# 2차원 배열\n",
    "B = np.array([[1, 2], \n",
    "              [3, 4], \n",
    "              [5, 6]])\n",
    "\n",
    "print(B)\n",
    "print('np.ndim(B) :', np.ndim(B))\n",
    "print('B.shape :', B.shape)\n",
    "print('B.shape[0] :', B.shape[0])"
   ]
  },
  {
   "cell_type": "markdown",
   "metadata": {},
   "source": [
    " "
   ]
  },
  {
   "cell_type": "markdown",
   "metadata": {},
   "source": [
    "### 3.3.2 행렬의 내적(행렬 곱)\n",
    "\n",
    "<img src=\"./images/3-11.png\" width=\"70%\"/>\n",
    "**그림 3-11** 행렬의 곱 계산 방법\n",
    "\n",
    "<img src=\"./images/3-12.png\" width=\"60%\"/>\n",
    "**그림 3-12** 행렬의 곱에서는 대응하는 차원의 원소 수를 일치시킨다.\n",
    "\n",
    "<img src=\"./images/3-13.png\" width=\"70%\"/>\n",
    "**그림 3-13** $\\mathbf{A}$가 2차원 행렬, $\\mathbf{B}$가 1차원 배열일 때도 대응하는 차원의 원소 수를 일치시킨다. "
   ]
  },
  {
   "cell_type": "code",
   "execution_count": 19,
   "metadata": {},
   "outputs": [
    {
     "name": "stdout",
     "output_type": "stream",
     "text": [
      "A.shape : (2, 2)\n",
      "B.shape : (2, 2)\n",
      "np.dot(A,B) :\n",
      " [[19 22]\n",
      " [43 50]]\n"
     ]
    }
   ],
   "source": [
    "A = np.array([[1, 2],\n",
    "              [3, 4]])\n",
    "\n",
    "B = np.array([[5, 6],\n",
    "              [7, 8]]) \n",
    "\n",
    "print('A.shape :', A.shape)\n",
    "print('B.shape :', B.shape)\n",
    "print('np.dot(A,B) :\\n', np.dot(A, B))"
   ]
  },
  {
   "cell_type": "markdown",
   "metadata": {},
   "source": [
    " "
   ]
  },
  {
   "cell_type": "markdown",
   "metadata": {},
   "source": [
    "### 3.3.3 신경망의 내적\n",
    "\n",
    "아래의 그림처럼 간단한 신경망 예제를 통해 신경망 내적을 계산 해보자.\n",
    "\n",
    "<img src=\"./images/3-14.png\" width=\"100%\"/>\n",
    "**그림 3-14** 행렬의 곱으로 신경망의 계산을 수행한다. "
   ]
  },
  {
   "cell_type": "code",
   "execution_count": 20,
   "metadata": {},
   "outputs": [
    {
     "name": "stdout",
     "output_type": "stream",
     "text": [
      "X.shape : (2,)\n",
      "W.shape : (2, 3)\n",
      "Y: [ 5 11 17]\n"
     ]
    }
   ],
   "source": [
    "X = np.array([1, 2])\n",
    "W = np.array([[1, 3, 5], \n",
    "              [2, 4, 6]])\n",
    "\n",
    "Y = np.dot(X, W)\n",
    "\n",
    "print('X.shape :', X.shape)\n",
    "print('W.shape :', W.shape)\n",
    "print('Y:', Y)"
   ]
  },
  {
   "cell_type": "markdown",
   "metadata": {},
   "source": [
    " "
   ]
  },
  {
   "cell_type": "markdown",
   "metadata": {},
   "source": [
    "## 3.4 3층 신경망 구현하기\n",
    "\n",
    "이번에는 아래 그림 처럼 3층 신경망을 구현해 보도록 하자.\n",
    "\n",
    "<img src=\"./images/3-15.png\" width=\"80%\" height=\"80%\"/>\n",
    "**그림 3-15** 3층 신경망: 입력층(layer 0)은 2개, 첫 번째 은닉층(layer 1)은 3개, 두 번째 은닉층(layer 2)은 2개, 출력층(layer 3)은 2개의 뉴런으로 구성된다."
   ]
  },
  {
   "cell_type": "markdown",
   "metadata": {},
   "source": [
    " "
   ]
  },
  {
   "cell_type": "markdown",
   "metadata": {},
   "source": [
    "### 3.4.1 표기법 설명\n",
    "\n",
    "<img src=\"./images/3-16.png\" width=\"65%\" height=\"65%\"/>"
   ]
  },
  {
   "cell_type": "markdown",
   "metadata": {},
   "source": [
    " "
   ]
  },
  {
   "cell_type": "markdown",
   "metadata": {},
   "source": [
    "### 3.4.2 각 층의 신호 전달 구현하기\n"
   ]
  },
  {
   "cell_type": "markdown",
   "metadata": {},
   "source": [
    "<img src=\"./images/3-17.png\" width=\"80%\" height=\"80%\"/>\n",
    "**그림 3-17** 입력층에서 1층으로 신호전달\n",
    "\n",
    "\n",
    "\n",
    "위의 그림에서 $a_{1}^{(1)}$에 대해 가중치 및 편향의 합으로 나타내면 다음과 같다. \n",
    "\n",
    "$$\n",
    "a_{1}^{(1)} = w_{11}^{(1)} x_1 + w_{12}^{(1)} x_2 + b_{1}^{(1)}\n",
    "$$\n",
    "\n",
    "마찬가지로 $a_{2}^{(1)}$, $a_{3}^{(1)}$에 대해 이를 행렬의 내적을 이용하여 나타내면 아래와 같이 간소화 할 수 있다.\n",
    "\n",
    "$$\n",
    "\\mathbf{A}^{(1)} = \\mathbf{XW}^{(1)} + \\mathbf{B}^{(1)}\n",
    "$$"
   ]
  },
  {
   "cell_type": "markdown",
   "metadata": {},
   "source": [
    "이때 행렬 $\\mathbf{A}^{(1)}$, $\\mathbf{X}$, $\\mathbf{B}^{(1)}$, $\\mathbf{W}^{(1)}$은 다음과 같다.\n",
    "\n",
    "$$\n",
    "\\mathbf{A}^{(1)} = \\begin{bmatrix} { a }_{ 1 }^{ (1) } & { a }_{ 2 }^{ (1) } & { a }_{ 3 }^{ (1) } \\end{bmatrix}, \\quad \\mathbf{X} = \\begin{bmatrix} { x }_{ 1 } & x_{ 2 } \\end{bmatrix}, \\quad \\mathbf{B}^{(1)} = \\begin{bmatrix} { b }_{ 1 }^{ (1) } & { b }_{ 2 }^{ (1) } & { b }_{ 3 }^{ (1) } \\end{bmatrix}\n",
    "$$\n",
    "\n",
    "$$\n",
    "\\mathbf{W}^{(1)} = \\begin{bmatrix} { w }_{ 11 }^{ (1) } & { w }_{ 21 }^{ (1) } & { w }_{ 31 }^{ (1) } \\\\ { w }_{ 12 }^{ (1) } & { w }_{ 22 }^{ (1) } & { w }_{ 32 }^{ (1) } \\end{bmatrix}\n",
    "$$"
   ]
  },
  {
   "cell_type": "code",
   "execution_count": 21,
   "metadata": {},
   "outputs": [
    {
     "name": "stdout",
     "output_type": "stream",
     "text": [
      "W1.shape : (2, 3)\n",
      "X.shape : (2,)\n",
      "B1.shape : (3,)\n",
      "A1.shape : (3,)\n",
      "A1 : [0.3 0.7 1.1]\n"
     ]
    }
   ],
   "source": [
    "X = np.array([1.0, 0.5])\n",
    "W1 = np.array([[0.1, 0.3, 0.5], \n",
    "               [0.2, 0.4, 0.6]])\n",
    "B1 = np.array([0.1, 0.2, 0.3])\n",
    "\n",
    "print('W1.shape :', W1.shape)\n",
    "print('X.shape :', X.shape)\n",
    "print('B1.shape :', B1.shape)\n",
    "\n",
    "A1 = np.dot(X, W1) + B1\n",
    "print('A1.shape :', A1.shape)\n",
    "print('A1 :', A1)"
   ]
  },
  {
   "cell_type": "markdown",
   "metadata": {},
   "source": [
    " "
   ]
  },
  {
   "cell_type": "markdown",
   "metadata": {},
   "source": [
    "<img src=\"./images/3-18.png\" width=\"80%\" height=\"80%\"/>\n",
    "**그림 3-18** 입력층에서 1층으로 신호전달 후 활성화 함수 적용\n",
    "\n",
    "> Notation: 일반적으로 입력은 $\\mathbf{x}$, 출력은 $\\mathbf{y}$, 은닉층은 latent variable 에 많이 사용되는 $\\mathbf{z}$를 사용한다. 활성화 함수를 통과하지 전의 출력은 $\\mathbf{a}$, 혹은 $net$ 이 널리 많이 사용한다."
   ]
  },
  {
   "cell_type": "code",
   "execution_count": 22,
   "metadata": {},
   "outputs": [
    {
     "name": "stdout",
     "output_type": "stream",
     "text": [
      "A1 : [0.3 0.7 1.1]\n",
      "Z1 : [0.57444252 0.66818777 0.75026011]\n"
     ]
    }
   ],
   "source": [
    "def sigmoid(x):\n",
    "    return 1 / (1 + np.exp(-x))\n",
    "\n",
    "Z1 = sigmoid(A1)\n",
    "\n",
    "print('A1 :', A1)\n",
    "print('Z1 :', Z1)"
   ]
  },
  {
   "cell_type": "markdown",
   "metadata": {},
   "source": [
    " "
   ]
  },
  {
   "cell_type": "markdown",
   "metadata": {},
   "source": [
    "<img src=\"./images/3-19.png\" width=\"80%\" height=\"80%\"/>\n",
    "**그림 3-19** 1층에서 2층으로 신호 전달"
   ]
  },
  {
   "cell_type": "code",
   "execution_count": 23,
   "metadata": {},
   "outputs": [
    {
     "name": "stdout",
     "output_type": "stream",
     "text": [
      "Z1.shape : (3,)\n",
      "W2.shape : (3, 2)\n",
      "B2.shape : (2,)\n",
      "A2 : [0.51615984 1.21402696]\n",
      "Z2 : [0.62624937 0.7710107 ]\n"
     ]
    }
   ],
   "source": [
    "W2 = np.array([[0.1, 0.4], \n",
    "               [0.2, 0.5], \n",
    "               [0.3, 0.6]])\n",
    "B2 = np.array([0.1, 0.2])\n",
    "\n",
    "print('Z1.shape :', Z1.shape)\n",
    "print('W2.shape :', W2.shape)\n",
    "print('B2.shape :', B2.shape)\n",
    "\n",
    "A2 = np.dot(Z1, W2) + B2  # 신호 합\n",
    "Z2 = sigmoid(A2)  # 활성화함수 값\n",
    "\n",
    "print('A2 :', A2)\n",
    "print('Z2 :', Z2)"
   ]
  },
  {
   "cell_type": "markdown",
   "metadata": {},
   "source": [
    " "
   ]
  },
  {
   "cell_type": "markdown",
   "metadata": {},
   "source": [
    "<img src=\"./images/3-20.png\" width=\"80%\" height=\"80%\"/>\n",
    "**그림 3-20** 2층에서 출력층으로의 신호 전달"
   ]
  },
  {
   "cell_type": "markdown",
   "metadata": {},
   "source": [
    "**항등 함수(identity function)**: \n",
    "최종단계는 네트워크의 출력을 _그대로 전달한다_. 따라서, 마지막 활성화 함수 $\\sigma(x) = x$ 인 __항등함수__이다. \n",
    "\n",
    "<img src=\"./images/3-21.png\" width=\"30%\"/>\n",
    "**그림 3-21** 항등 함수 "
   ]
  },
  {
   "cell_type": "code",
   "execution_count": 24,
   "metadata": {},
   "outputs": [],
   "source": [
    "def identity_function(x): return x"
   ]
  },
  {
   "cell_type": "markdown",
   "metadata": {},
   "source": [
    "> Notation: 다른 논문이나 교과서에는 $\\sigma$를 signmod 함수를 나태내는 데 더 자주 쓰인다. 위의 그림은 수정을 하기 어렵고, 책도 그렇게 되어 있기 때문에 그냥 두었다. "
   ]
  },
  {
   "cell_type": "code",
   "execution_count": 25,
   "metadata": {},
   "outputs": [
    {
     "name": "stdout",
     "output_type": "stream",
     "text": [
      "W3.shape : (2, 2)\n",
      "B3.shape : (2,)\n",
      "A3.shape : (2,)\n",
      "Y.shape : (2,)\n",
      "A3 : [0.31682708 0.69627909]\n",
      "Y : [0.31682708 0.69627909]\n"
     ]
    }
   ],
   "source": [
    "W3 = np.array([[0.1, 0.3], [0.2, 0.4]])\n",
    "B3 = np.array([0.1, 0.2])\n",
    "\n",
    "A3 = np.dot(Z2, W3) + B3\n",
    "Y = identity_function(A3)  # Y = A3\n",
    "\n",
    "print('W3.shape :', W3.shape)\n",
    "print('B3.shape :', B3.shape)\n",
    "print('A3.shape :', A3.shape)\n",
    "print('Y.shape :', Y.shape)\n",
    "\n",
    "print('A3 :', A3)\n",
    "print('Y :', Y)"
   ]
  },
  {
   "cell_type": "markdown",
   "metadata": {},
   "source": [
    " "
   ]
  },
  {
   "cell_type": "markdown",
   "metadata": {},
   "source": [
    "### 3.4.3 구현 정리\n",
    "\n",
    "위에서 구현한 것을 정리해 보도록 하자"
   ]
  },
  {
   "cell_type": "code",
   "execution_count": 26,
   "metadata": {},
   "outputs": [
    {
     "name": "stdout",
     "output_type": "stream",
     "text": [
      "[0.31682708 0.69627909]\n"
     ]
    }
   ],
   "source": [
    "def init_network():\n",
    "    network = {}\n",
    "    network['W1'] = np.array([[0.1, 0.3, 0.5], \n",
    "                              [0.2, 0.4, 0.6]])\n",
    "    network['b1'] = np.array([0.1, 0.2, 0.3])\n",
    "    network['W2'] = np.array([[0.1, 0.4], \n",
    "                              [0.2, 0.5], \n",
    "                              [0.3, 0.6]])\n",
    "    network['b2'] = np.array([0.1, 0.2])\n",
    "    network['W3'] = np.array([[0.1, 0.3], \n",
    "                              [0.2, 0.4]])\n",
    "    network['b3'] = np.array([0.1, 0.2])\n",
    "\n",
    "    return network  # dictionary return\n",
    "\n",
    "\n",
    "def forward(network, x):\n",
    "    W1, W2, W3 = network['W1'], network['W2'], network['W3']\n",
    "    b1, b2, b3 = network['b1'], network['b2'], network['b3']\n",
    "    \n",
    "    a1 = np.dot(x, W1) + b1\n",
    "    z1 = sigmoid(a1)\n",
    "    a2 = np.dot(z1, W2) + b2\n",
    "    z2 = sigmoid(a2)\n",
    "    a3 = np.dot(z2, W3) + b3\n",
    "    y = identity_function(a3)\n",
    "    \n",
    "    return y\n",
    "\n",
    "\n",
    "network = init_network()\n",
    "x = np.array([1.0, 0.5])\n",
    "y = forward(network, x)\n",
    "print(y)"
   ]
  },
  {
   "cell_type": "markdown",
   "metadata": {},
   "source": [
    " "
   ]
  },
  {
   "cell_type": "markdown",
   "metadata": {},
   "source": [
    "## 3.5 출력층 설계하기\n",
    "\n",
    "신경망은 분류(classification)와 회귀(regression) 둘 다 사용할 수 있다. 대신, 분류인지 회귀인지에 따라 출력층에서 사용하는 활성화 함수가 달라진다. 일반적으로 회귀에는 **항등 함수**를 사용하며, 분류에는 **소프트맥스 함수**를 사용한다."
   ]
  },
  {
   "cell_type": "markdown",
   "metadata": {},
   "source": [
    "### 3.5.1 소프트맥스 함수 구현하기\n",
    "\n",
    "<!-- **항등 함수**(identity function)는 입력을 그대로 출력한다. -->\n",
    "\n",
    "분류에 사용하는 **소프트맥스 함수**(softmax function)의 식은 다음과 같다.\n",
    "\n",
    "$$\n",
    "y_k = \\frac{\\exp(a_k)}{\\sum_{i = 1}^{n}{\\exp(a_i)}}\n",
    "$$\n",
    "$\\exp(x)$는 $e^x$, 지수함수(exponential function)이다. \n",
    "$n$은 출력측의 뉴런 수, $y_k$는 그 중 $k$번째 출력임을 뜻한다. 소프트맥스 함수의 분자는 입력 신호 $a_k$의 지수 함수, 분모는 모든 입력 신호의 지수 함수의 합으로 구성된다. \n",
    "\n",
    "<img src=\"./images/3-22.png\" width=\"30%\"/>\n",
    "**그림 3-22** 소프트맥스 함수 \n",
    "\n",
    "출력층의 각 뉴런이 모든 입력 신호에서 영향을 받기 때문에 소프트맥스 함수는 모든 입력 신호로부터 화살표를 받는다. "
   ]
  },
  {
   "cell_type": "code",
   "execution_count": 27,
   "metadata": {},
   "outputs": [
    {
     "name": "stdout",
     "output_type": "stream",
     "text": [
      "[ 1.34985881 18.17414537 54.59815003]\n",
      "74.1221542101633\n",
      "[0.01821127 0.24519181 0.73659691]\n"
     ]
    }
   ],
   "source": [
    "# softmax function implementation example\n",
    "a = np.array([0.3, 2.9, 4.0])\n",
    "exp_a = np.exp(a)   # e^a_k\n",
    "print(exp_a)\n",
    "# [ 1.34985881 18.17414537 54.59815003]\n",
    "\n",
    "sum_exp_a = np.sum(exp_a)   # sum e^a_k\n",
    "print(sum_exp_a)\n",
    "# 74.1221542101633\n",
    "\n",
    "y = exp_a/sum_exp_a  # softmax output\n",
    "print(y)\n",
    "# [0.01821127 0.24519181 0.73659691]"
   ]
  },
  {
   "cell_type": "code",
   "execution_count": 28,
   "metadata": {},
   "outputs": [],
   "source": [
    "def softmax_0(a):\n",
    "    exp_a = np.exp(a)   # e^a_k\n",
    "    sum_exp_a = np.sum(exp_a)   # sum e^a_k\n",
    "    y = exp_a/sum_exp_a  # softmax output\n",
    "    return y"
   ]
  },
  {
   "cell_type": "markdown",
   "metadata": {},
   "source": [
    "### 3.5.2 소프트맥스 함수 구현 시 주의점\n",
    "\n",
    "softmax 함수는 exp 함수를 사용하기 때문에 구현할 때에는 overflow 를 조심해야 한다. \n",
    "예를 들어 $e^{1000}$은 double type으로는 무한대($\\infty$, inf)가 된다. \n",
    "따라서 이런 큰 값끼리 나눗셈을 하면 수치가 **불안정**해진다."
   ]
  },
  {
   "cell_type": "code",
   "execution_count": 29,
   "metadata": {},
   "outputs": [
    {
     "name": "stdout",
     "output_type": "stream",
     "text": [
      "e^10, e^-10 = 2.202647e+04, 4.539993e-05, \n",
      "e^100, e^-100 = 2.688117e+43, 3.720076e-44, \n",
      "e^200, e^-200 = 7.225974e+86, 1.383897e-87, \n",
      "e^400, e^-400 = 5.221470e+173, 1.915170e-174, \n",
      "e^600, e^-600 = 3.773020e+260, 2.650397e-261, \n",
      "e^1000, e^-1000 = inf, 0.000000e+00, \n"
     ]
    },
    {
     "name": "stderr",
     "output_type": "stream",
     "text": [
      "/usr/lib/python3/dist-packages/ipykernel_launcher.py:2: RuntimeWarning: overflow encountered in exp\n",
      "  \n"
     ]
    }
   ],
   "source": [
    "X = [10, 100, 200, 400, 600,1000]\n",
    "for x in X: print('e^{0:d}, e^-{0:d} = {1:.6e}, {2:.6e}, '.format(x,np.exp(x),np.exp(-x)))"
   ]
  },
  {
   "cell_type": "markdown",
   "metadata": {},
   "source": [
    "> **overflow, underflow, precision, and range of floating-point numbers**: 컴퓨터는 실수를 4바이트(dtype float) 혹은 8바이트(dtype double)와 같이 크기가 유한한 데이터로 저장한다. 따라서 표현할 수 있는 수의 범위(range)가 한정되어 너무 큰 값은 표현할 수 없다는 문제(overflow)가 발생한다. 또한 표현할 수 있는 가장 작은 값의 크기(precision)보가 작은 값이 주어지면 0이 된다(underflow)."
   ]
  },
  {
   "cell_type": "markdown",
   "metadata": {},
   "source": [
    "- Softmax 함수의 개선\n",
    "    - 분모/분자에 같은 상수를 곱해도 softmax 함수의 값은 같다. \n",
    "\n",
    "$$\n",
    "y_k = \\frac{\\exp(a_k)}{\\sum_{i = 1}^{n}{\\exp(a_i)}} = \\frac{C \\exp(a_k)}{\\sum_{i = 1}^{n}{C \\exp(a_i)}} = \\frac{\\exp(a_k + \\log C)}{\\sum_{i = 1}^{n}{\\exp(a_i + \\log C)}}\n",
    "$$\n",
    "\n",
    "범위를 안정적으로 유지하기 위해서 $\\exp(x)$에서 $x \\leq 0$이 만족시키도록 $\\log C$ 값을 정한다(우리가 관심있는 것은 \"최대값\"인 class label을 찾는 것이므로 underflow는 이 경우 크게 문제되지 않는다). 이를 위하여 예측값 중 최대값을 차감한다. \n",
    "\n",
    "$$\\log C \\Leftarrow -\\max_{j} a_j$$\n",
    "$$\n",
    "y_k = \\frac{\\exp(a_k - \\max_{j} a_j)}{\\sum_{i = 1}^{n}{\\exp(a_i - \\max_{j} a_j)}}\n",
    "$$"
   ]
  },
  {
   "cell_type": "code",
   "execution_count": 30,
   "metadata": {},
   "outputs": [
    {
     "name": "stdout",
     "output_type": "stream",
     "text": [
      "[nan nan nan]\n",
      "[  0 -10 -20]\n",
      "[9.99954600e-01 4.53978686e-05 2.06106005e-09]\n"
     ]
    },
    {
     "name": "stderr",
     "output_type": "stream",
     "text": [
      "/usr/lib/python3/dist-packages/ipykernel_launcher.py:2: RuntimeWarning: overflow encountered in exp\n",
      "  \n",
      "/usr/lib/python3/dist-packages/ipykernel_launcher.py:2: RuntimeWarning: invalid value encountered in true_divide\n",
      "  \n"
     ]
    }
   ],
   "source": [
    "a = np.array([1010, 1000, 990])\n",
    "print(np.exp(a)/np.sum(np.exp(a)))\n",
    "\n",
    "c = np.max(a)\n",
    "print(a-c)\n",
    "print(np.exp(a-c)/np.sum(np.exp(a-c)))"
   ]
  },
  {
   "cell_type": "code",
   "execution_count": 31,
   "metadata": {},
   "outputs": [
    {
     "name": "stdout",
     "output_type": "stream",
     "text": [
      "[9.99954600e-01 4.53978686e-05 2.06106005e-09]\n"
     ]
    }
   ],
   "source": [
    "def softmax(a):\n",
    "    c = np.max(a)\n",
    "    exp_a = np.exp(a - c)  # 오버플로 대책\n",
    "    return exp_a / sum(exp_a)\n",
    "\n",
    "print(softmax(np.array([1010, 1000, 990])))"
   ]
  },
  {
   "cell_type": "markdown",
   "metadata": {},
   "source": [
    " "
   ]
  },
  {
   "cell_type": "markdown",
   "metadata": {},
   "source": [
    "### 3.5.3 소프트맥스 함수의 특징"
   ]
  },
  {
   "cell_type": "code",
   "execution_count": 32,
   "metadata": {},
   "outputs": [
    {
     "name": "stdout",
     "output_type": "stream",
     "text": [
      "y : [0.01821127 0.24519181 0.73659691]\n",
      "np.sum(y) : 1.0\n"
     ]
    }
   ],
   "source": [
    "a = np.array([0.3, 2.9, 4.0])\n",
    "y = softmax(a)\n",
    "\n",
    "print('y :', y)\n",
    "print('np.sum(y) :', np.sum(y))"
   ]
  },
  {
   "cell_type": "markdown",
   "metadata": {},
   "source": [
    "위의 출력결과 에서 볼 수 있듯이 소프트맥스 함수 출력의 총합은 1이다. 이러한 성질 덕분에 소프트맥스 함수의 출력을 '확률'로 해석할 수 있다."
   ]
  },
  {
   "cell_type": "markdown",
   "metadata": {},
   "source": [
    " "
   ]
  },
  {
   "cell_type": "markdown",
   "metadata": {},
   "source": [
    "## 3.6 손글씨 숫자 인식"
   ]
  },
  {
   "cell_type": "markdown",
   "metadata": {},
   "source": [
    "### 3.6.1 MNIST 데이터셋\n",
    "\n",
    " MNIST는 미국 인구조사국의 직원들이 쓴 숫자와 고등학생들이 쓴 숫자로 만든 미국 국립표준기술연구소(NIST)의 데이터베이스를 다시 섞어 만든 필기체 숫자 이미지 데이터베이스이다. \n",
    "\n",
    "MNIST 데이터는 딥러닝 예제에서 빠지지 않고 등장하는 데이터라고 할 수 있다.\n",
    "\n",
    "![](./images/mnist.png)"
   ]
  },
  {
   "cell_type": "markdown",
   "metadata": {},
   "source": [
    "MNIST 데이터셋은 0부터 9까지 숫자 이미지로 구성됩니다. 훈련 60,000장(인구 센서스 기입), 시험 10,000장(미국 고등학생)이 주어진다. \n",
    "`dataset/mnist.py` 파일에 정의된 `load_mnist()` 함수를 이용하면 쉽게 가지고 올 수 있다."
   ]
  },
  {
   "cell_type": "code",
   "execution_count": 33,
   "metadata": {},
   "outputs": [],
   "source": [
    "%matplotlib inline\n",
    "import sys, os\n",
    "import matplotlib.pyplot as plt\n",
    "sys.path.append(os.pardir)  # 부모 디렉터리의 파일을 가져올 수 있도록 설정\n",
    "from IPython.core.pylabtools import figsize\n",
    "from dataset.mnist import load_mnist"
   ]
  },
  {
   "cell_type": "markdown",
   "metadata": {},
   "source": [
    "**sys.path.append(os.pardir)**\n",
    "\n",
    "> mnist.py 파일은 이 책 예제 소스의 `dataset` 디렉토리에 있고, **`from dataset.mnist`** 가 `load_mnist` 함수를 읽어들이기 위해서는 검색 경로에서 `dataset` 폴더를 찾을 수 있어야 한다. 각 예제는 `ch01, ch02, ..., ch08 (or Chap01-...)` 폴더에서 수행한다고 가정하면 검색 경로가 부모 디렉토리가 포함되어야 한다."
   ]
  },
  {
   "cell_type": "code",
   "execution_count": 34,
   "metadata": {},
   "outputs": [
    {
     "name": "stdout",
     "output_type": "stream",
     "text": [
      "x_train.shape : (60000, 1, 28, 28)\n",
      "t_train.shape : (60000,)\n",
      "x_test.shape : (10000, 1, 28, 28)\n",
      "t_test.shape : (10000,)\n",
      "t_train[0] = 5\n",
      "[[  0   0   0   0   0   0   0   0   0   0   0   0   0   0]\n",
      " [  0   0   0   0   0   0   0   0   0   0   0   0   0   0]\n",
      " [  0   0   0   0   0   0   0   0   0   0   0   0   0   0]\n",
      " [  0   0   0   0  30  94 170 253 253 225 253 195   0   0]\n",
      " [  0   0   0   0 219 253 253 198 247   0   0   0   0   0]\n",
      " [  0   0   0   0   0   1 253   0   0   0   0   0   0   0]\n",
      " [  0   0   0   0   0   0 190  70   0   0   0   0   0   0]\n",
      " [  0   0   0   0   0   0   0 240 253  25   0   0   0   0]\n",
      " [  0   0   0   0   0   0   0   0  93 253   0   0   0   0]\n",
      " [  0   0   0   0   0   0   0  46 183 253   2   0   0   0]\n",
      " [  0   0   0   0   0  24 221 253 253  78   0   0   0   0]\n",
      " [  0   0   0  18 219 253 253  80   0   0   0   0   0   0]\n",
      " [  0   0 136 253 212 132   0   0   0   0   0   0   0   0]\n",
      " [  0   0   0   0   0   0   0   0   0   0   0   0   0   0]]\n"
     ]
    }
   ],
   "source": [
    "(x_train, t_train), (x_test, t_test) = load_mnist(flatten=False, normalize=False, one_hot_label=False)\n",
    "print('x_train.shape :', x_train.shape)\n",
    "print('t_train.shape :', t_train.shape)\n",
    "print('x_test.shape :', x_test.shape)\n",
    "print('t_test.shape :', t_test.shape)\n",
    "print('t_train[0] =',t_train[0])\n",
    "print(x_train[0][0][::2,::2])"
   ]
  },
  {
   "cell_type": "code",
   "execution_count": 35,
   "metadata": {},
   "outputs": [
    {
     "name": "stdout",
     "output_type": "stream",
     "text": [
      "x_train.shape : (60000, 1, 28, 28)\n",
      "t_train.shape : (60000, 10)\n",
      "x_test.shape : (10000, 1, 28, 28)\n",
      "t_test.shape : (10000, 10)\n",
      "t_train[0] = [0. 0. 0. 0. 0. 1. 0. 0. 0. 0.]\n",
      "[[0.   0.   0.   0.   0.   0.   0.   0.   0.   0.   0.   0.   0.   0.  ]\n",
      " [0.   0.   0.   0.   0.   0.   0.   0.   0.   0.   0.   0.   0.   0.  ]\n",
      " [0.   0.   0.   0.   0.   0.   0.   0.   0.   0.   0.   0.   0.   0.  ]\n",
      " [0.   0.   0.   0.   0.12 0.37 0.67 0.99 0.99 0.88 0.99 0.76 0.   0.  ]\n",
      " [0.   0.   0.   0.   0.86 0.99 0.99 0.78 0.97 0.   0.   0.   0.   0.  ]\n",
      " [0.   0.   0.   0.   0.   0.   0.99 0.   0.   0.   0.   0.   0.   0.  ]\n",
      " [0.   0.   0.   0.   0.   0.   0.75 0.27 0.   0.   0.   0.   0.   0.  ]\n",
      " [0.   0.   0.   0.   0.   0.   0.   0.94 0.99 0.1  0.   0.   0.   0.  ]\n",
      " [0.   0.   0.   0.   0.   0.   0.   0.   0.36 0.99 0.   0.   0.   0.  ]\n",
      " [0.   0.   0.   0.   0.   0.   0.   0.18 0.72 0.99 0.01 0.   0.   0.  ]\n",
      " [0.   0.   0.   0.   0.   0.09 0.87 0.99 0.99 0.31 0.   0.   0.   0.  ]\n",
      " [0.   0.   0.   0.07 0.86 0.99 0.99 0.31 0.   0.   0.   0.   0.   0.  ]\n",
      " [0.   0.   0.53 0.99 0.83 0.52 0.   0.   0.   0.   0.   0.   0.   0.  ]\n",
      " [0.   0.   0.   0.   0.   0.   0.   0.   0.   0.   0.   0.   0.   0.  ]]\n"
     ]
    }
   ],
   "source": [
    "(x_train, t_train), (x_test, t_test) = load_mnist(flatten=False, normalize=True, one_hot_label=True)\n",
    "# normalize == True: 0..255 -> 0..1\n",
    "# one_hot_label == True: 0 -> [1 0 0 ...], 1 -> [0 1 0 ...], 2 -> [0 0 1 ...]\n",
    "print('x_train.shape :', x_train.shape)\n",
    "print('t_train.shape :', t_train.shape)\n",
    "print('x_test.shape :', x_test.shape)\n",
    "print('t_test.shape :', t_test.shape)\n",
    "print('t_train[0] =',t_train[0])\n",
    "with np.printoptions(precision=2, suppress=True):\n",
    "    print(x_train[0][0][::2,::2])"
   ]
  },
  {
   "cell_type": "code",
   "execution_count": 36,
   "metadata": {},
   "outputs": [
    {
     "name": "stdout",
     "output_type": "stream",
     "text": [
      "x_train.shape : (60000, 784)\n",
      "t_train.shape : (60000,)\n",
      "x_test.shape : (10000, 784)\n",
      "t_test.shape : (10000,)\n",
      "t_train[0] = 5\n",
      "[  0   0   0   0   0   0   0   0   0   0   0   0   0   0   0   0   0   0\n",
      "   0   0   0   0   0   0   0   0   0   0   0   0   0   0   0   0   0   0\n",
      "   0   0   3 126 166   0   0   0  30 170 253 253   0   0   0 238 253 253\n",
      "  82   0   0   0 219 253 247   0   0   0   0  80 253  43   0   0   0   0\n",
      "   0 253   0   0   0   0   0   0 253   0   0   0   0   0   0 190   0   0\n",
      "   0   0   0   0  35 108   0   0   0   0   0   0 253   0   0   0   0   0\n",
      "   0 253   0   0   0   0   0   0  93   0   0   0   0   0   0   0  64   0\n",
      "   0   0   0   0 183   2   0   0   0   0  39 253   0   0   0   0   0 221\n",
      " 253   0   0   0   0  23 253  81   0   0   0   0 219 253   0   0   0   0\n",
      "  55 253 133   0   0   0   0 136 212   0   0   0   0   0   0   0   0   0\n",
      "   0   0   0   0   0   0   0   0   0   0   0   0   0   0   0   0]\n"
     ]
    }
   ],
   "source": [
    "# loading options for furthur processing\n",
    "# flatten=True, normalize=False, one_hot_label=False\n",
    "(x_train, t_train), (x_test, t_test) = load_mnist(flatten=True, normalize=False, one_hot_label=False)\n",
    "# flatten = True: 1x28x28 -> 784\n",
    "print('x_train.shape :', x_train.shape)\n",
    "print('t_train.shape :', t_train.shape)\n",
    "print('x_test.shape :', x_test.shape)\n",
    "print('t_test.shape :', t_test.shape)\n",
    "print('t_train[0] =',t_train[0])\n",
    "print(x_train[0][::4])"
   ]
  },
  {
   "cell_type": "code",
   "execution_count": 37,
   "metadata": {},
   "outputs": [
    {
     "data": {
      "image/png": "[encoded data removed]",
      "text/plain": [
       "<Figure size 576x288 with 2 Axes>"
      ]
     },
     "metadata": {},
     "output_type": "display_data"
    }
   ],
   "source": [
    "figsize(8,4)\n",
    "img = x_train[0].reshape(28, 28)\n",
    "fig1 = plt.subplot(1,2,1).imshow(img, 'gray')\n",
    "plt.xticks(range(0,28,5)), plt.yticks(range(0,28,5));\n",
    "plt.subplot(1,2,2).imshow(img, 'gray')\n",
    "plt.xticks([]), plt.yticks([]);"
   ]
  },
  {
   "cell_type": "markdown",
   "metadata": {},
   "source": [
    " "
   ]
  },
  {
   "cell_type": "markdown",
   "metadata": {},
   "source": [
    "### 3.6.2 신경망의 추론 처리\n",
    "\n",
    "이 예제에서는 `sample_weight.pkl`에 사전에 '학습된 가중치 매개변수'를 이용해 MNIST 데이터를 분류한다.\n",
    "\n",
    "![](./images/mnist_nn.png)"
   ]
  },
  {
   "cell_type": "markdown",
   "metadata": {},
   "source": [
    "아래 예제코드는 [neuralnet_mnist.py](neuralnet_mnist.py)를 jupyter notebook에 그대로 옮긴 것이다.\n",
    "\n",
    "- Definition of a neural network with 2 hidden layers (3 layers) for MNIST\n",
    "- $784 \\times 50 \\times 100 \\times 10$ nodes\n"
   ]
  },
  {
   "cell_type": "code",
   "execution_count": 38,
   "metadata": {},
   "outputs": [],
   "source": [
    "import sys, os\n",
    "import numpy as np\n",
    "import matplotlib.pyplot as plt\n",
    "sys.path.append(os.pardir)  # 부모 디렉터리의 파일을 가져올 수 있도록 설정\n",
    "from dataset.mnist import load_mnist\n",
    "from common.functions import sigmoid, softmax\n",
    "\n",
    "import pickle   # 미리 학습된 모델을 읽어들이기 위해 필요 "
   ]
  },
  {
   "cell_type": "markdown",
   "metadata": {},
   "source": [
    "`get_data()`에서 MNIST 데이터를 불러올 때 `normalize=True`로 해서 데이터를 불러온다. `normalize`를 `True`로 설정하면 이미지의 pixel 값의 범위인 0~255의 값을 255로 나눠, 0.0 ~ 1.0 범위로 변환 해준다. "
   ]
  },
  {
   "cell_type": "code",
   "execution_count": 39,
   "metadata": {},
   "outputs": [],
   "source": [
    "def get_data():\n",
    "    (x_train, t_train), (x_test, t_test) = \\\n",
    "    load_mnist(normalize=True, flatten=True, one_hot_label=False)\n",
    "    # 학습할 필요가 없으니 test data만 return 한다.\n",
    "    return x_test, t_test\n",
    "\n",
    "def init_network():\n",
    "    # pickle 로 저장된 network 를 불러온다 \n",
    "    with open(\"./sample_weight.pkl\", 'rb') as f: network = pickle.load(f)\n",
    "    return network\n",
    "\n",
    "def predict(network, x):\n",
    "    W1, W2, W3 = network['W1'], network['W2'], network['W3']\n",
    "    b1, b2, b3 = network['b1'], network['b2'], network['b3']\n",
    "    z1 = sigmoid(np.dot(x, W1) + b1)\n",
    "    z2 = sigmoid(np.dot(z1, W2) + b2)\n",
    "    y = softmax(np.dot(z2, W3) + b3)\n",
    "    # single line\n",
    "    # y = softmax(np.dot(sigmoid(np.dot(sigmoid(np.dot(x, W1)+b1),W2)+b2),W3)+b3)\n",
    "    return y"
   ]
  },
  {
   "cell_type": "markdown",
   "metadata": {},
   "source": [
    "학습된 가중치를 이용하여 **정확도(accuracy)**를 계산한다."
   ]
  },
  {
   "cell_type": "code",
   "execution_count": 40,
   "metadata": {},
   "outputs": [
    {
     "name": "stdout",
     "output_type": "stream",
     "text": [
      "Accuracy:0.9352\n"
     ]
    }
   ],
   "source": [
    "x, t = get_data()   # load test data\n",
    "network = init_network()  # load model\n",
    "\n",
    "accuracy_cnt = 0\n",
    "for i in range(len(x)):\n",
    "    y = predict(network, x[i])\n",
    "    p = np.argmax(y)  # 확률이 가장 높은 원소의 인덱스를 얻는다.\n",
    "    if p == t[i]:\n",
    "        accuracy_cnt += 1\n",
    "        \n",
    "print(\"Accuracy:\" + str(float(accuracy_cnt)/len(x)))"
   ]
  },
  {
   "cell_type": "markdown",
   "metadata": {},
   "source": [
    " "
   ]
  },
  {
   "cell_type": "markdown",
   "metadata": {},
   "source": [
    "### 3.6.3 배치 처리\n",
    "\n",
    "먼저 위에서 작성한 코드는 `for`문을 돌면서, 숫자 이미지 **1 개**가 입력 되었을 때 분류를 수행하는 코드이다.\n",
    "이를 그림으로 나타내면 아래와 같다.\n",
    "\n",
    "<img src=\"./images/3-26.png\" width=\"70%\" height=\"70%\">\n",
    "<center>**그림 3-26** 신경망 각 층의 배열 형상</center>"
   ]
  },
  {
   "cell_type": "markdown",
   "metadata": {},
   "source": [
    "데이터 및 모델 읽어 들이기"
   ]
  },
  {
   "cell_type": "code",
   "execution_count": 41,
   "metadata": {},
   "outputs": [],
   "source": [
    "x, t = get_data()\n",
    "network = init_network()"
   ]
  },
  {
   "cell_type": "markdown",
   "metadata": {},
   "source": [
    "다차원 배열에서 차원의 원소 수 확인"
   ]
  },
  {
   "cell_type": "code",
   "execution_count": 42,
   "metadata": {},
   "outputs": [
    {
     "name": "stdout",
     "output_type": "stream",
     "text": [
      "(10000, 784)\n",
      "(784,) (784, 50) (50, 100) (100, 10)\n"
     ]
    }
   ],
   "source": [
    "print(x.shape)\n",
    "W1, W2, W3 = network['W1'], network['W2'], network['W3']\n",
    "\n",
    "# y = x * W1 * W2 * W3  (excluding bias vectors)\n",
    "print(x[0].shape, W1.shape, W2.shape, W3.shape)"
   ]
  },
  {
   "cell_type": "markdown",
   "metadata": {},
   "source": [
    "Forwarding, softmax, and argmax"
   ]
  },
  {
   "cell_type": "code",
   "execution_count": 43,
   "metadata": {},
   "outputs": [
    {
     "name": "stdout",
     "output_type": "stream",
     "text": [
      "[0.524 0.033 0.903 0.943 0.015 0.37  0.    1.    0.109 0.914]\n",
      "[0.096 0.059 0.141 0.146 0.058 0.082 0.057 0.155 0.064 0.142] sum(y)= 0.9999999\n",
      "target = 7  prediction = 7\n"
     ]
    }
   ],
   "source": [
    "W1, W2, W3 = network['W1'], network['W2'], network['W3']\n",
    "b1, b2, b3 = network['b1'], network['b2'], network['b3']\n",
    "\n",
    "# forwarding: prediction\n",
    "a3 = sigmoid(np.dot( sigmoid(np.dot( sigmoid(np.dot(x[0], W1)+b1), W2)+b2), W3)+b3)\n",
    "with np.printoptions(precision=3, suppress=True): print(a3)\n",
    "y = softmax(a3)\n",
    "with np.printoptions(precision=3, suppress=True): print(y, 'sum(y)=', np.sum(y))\n",
    "print('target =', t[0], ' prediction =', np.argmax(y))"
   ]
  },
  {
   "cell_type": "markdown",
   "metadata": {},
   "source": [
    "### Full batch processing\n",
    "\n",
    "여러개의 샘플을 하나의 입력 단위로 묶은 것을 **배치(batch)** 라고 하며,  \n",
    "전체를 한꺼번에 처리하는 것을 **full batch processing**이라고 한다.\n",
    "\n",
    "이미지를 하나씩 forwarding 하는 것과 전체를 한꺼번에 처리하는 것을 비교하여 보자. \n",
    "`time` package 를 이용하여 소요된 시간을 측정하여 비교한다."
   ]
  },
  {
   "cell_type": "code",
   "execution_count": 44,
   "metadata": {},
   "outputs": [
    {
     "name": "stdout",
     "output_type": "stream",
     "text": [
      "Accuracy: 0.103,  elapsed time = 1.3643 seconds\n",
      "Accuracy: 0.935,  elapsed time = 0.0407 seconds\n"
     ]
    }
   ],
   "source": [
    "# Using direct matrix multiplication \n",
    "import time\n",
    "\n",
    "W1, W2, W3 = network['W1'], network['W2'], network['W3']\n",
    "b1, b2, b3 = network['b1'], network['b2'], network['b3']\n",
    "\n",
    "# 10000 x ( (784,) x (784, 50) x (50, 100) x (100, 10))\n",
    "start = time.time()\n",
    "accuracy_cnt = 0\n",
    "for i in range(0, len(x)):\n",
    "    yi = softmax(sigmoid(np.dot( sigmoid(np.dot( sigmoid(np.dot(x[0], W1)+b1), W2)+b2), W3)+b3))\n",
    "    accuracy_cnt += np.sum(np.argmax(yi) == t[i])\n",
    "print('Accuracy: {:.3f},  elapsed time = {:.4f} seconds'.format(accuracy_cnt/len(x), time.time()-start))\n",
    "\n",
    "#  (10000, 784) x (784, 50) x (50, 100) x (100, 10)\n",
    "start = time.time()\n",
    "accuracy_cnt = 0\n",
    "y = softmax(sigmoid(np.dot( sigmoid(np.dot( sigmoid(np.dot(x, W1)+b1), W2)+b2), W3)+b3))\n",
    "p = np.argmax(y, axis=1)\n",
    "accuracy_cnt = np.sum(p == t)    \n",
    "print('Accuracy: {:.3f},  elapsed time = {:.4f} seconds'.format(accuracy_cnt/len(x), time.time()-start))"
   ]
  },
  {
   "cell_type": "code",
   "execution_count": 45,
   "metadata": {},
   "outputs": [
    {
     "name": "stdout",
     "output_type": "stream",
     "text": [
      "Accuracy: 0.935,  elapsed time = 1.1659 seconds\n",
      "Accuracy: 0.935,  elapsed time = 0.0359 seconds\n"
     ]
    }
   ],
   "source": [
    "# Using the internal predict method\n",
    "import time\n",
    "\n",
    "# 10000 x ( (784,) x (784, 50) x (50, 100) x (100, 10))\n",
    "start = time.time()\n",
    "accuracy_cnt = 0\n",
    "for i in range(0, len(x)):\n",
    "    yi = predict(network, x[i])\n",
    "    accuracy_cnt += np.sum(np.argmax(yi) == t[i])\n",
    "print('Accuracy: {:.3f},  elapsed time = {:.4f} seconds'.format(accuracy_cnt/len(x), time.time()-start))\n",
    "\n",
    "#  (10000, 784) x (784, 50) x (50, 100) x (100, 10)\n",
    "start = time.time()\n",
    "accuracy_cnt = 0\n",
    "y = predict(network, x)\n",
    "p = np.argmax(y, axis=1)\n",
    "accuracy_cnt = np.sum(p == t)    \n",
    "print('Accuracy: {:.3f},  elapsed time = {:.4f} seconds'.format(accuracy_cnt/len(x), time.time()-start))"
   ]
  },
  {
   "cell_type": "markdown",
   "metadata": {},
   "source": [
    "### Mini-batch processing \n",
    "이번에는 이미지 전체가 아닌 **100개**씩을 입력하여 출력결과 또한 **100개씩** 출력하도록 구성해보자. 아래의 그림은 100개의 이미지를 입력했을 때, 100개의 출력이 나오는 것을 나타낸 것이다. 이렇게 전체가 아닌 일부를 하나의 입력 단위로 묶은 것을 **미니배치(mini-batch)** 라고 한다.\n",
    "\n",
    "<img src=\"./images/3-27.png\" width=\"70%\" height=\"70%\"/>\n",
    "<center>**그림 3-27** 미니 배치 처리를 위한 배열들의 형상</center>"
   ]
  },
  {
   "cell_type": "code",
   "execution_count": 46,
   "metadata": {},
   "outputs": [
    {
     "name": "stdout",
     "output_type": "stream",
     "text": [
      "Sample-wise, accuracy: 0.935,  elapsed time = 1.1366 seconds\n",
      "Full-batch, accuracy: 0.935,  elapsed time = 0.0425 seconds\n",
      "Mini-batch, accuracy: 0.935,  elapsed time = 0.0634 seconds\n"
     ]
    }
   ],
   "source": [
    "import time\n",
    "\n",
    "# 10000 x ( (784,) x (784, 50) x (50, 100) x (100, 10))\n",
    "start = time.time()\n",
    "accuracy_cnt = 0\n",
    "for i in range(0, len(x)):\n",
    "    yi = predict(network, x[i])\n",
    "    accuracy_cnt += np.sum(np.argmax(yi) == t[i])\n",
    "print('Sample-wise, accuracy: {:.3f},  elapsed time = {:.4f} seconds'.format(accuracy_cnt/len(x), time.time()-start))\n",
    "\n",
    "#  (10000, 784) x (784, 50) x (50, 100) x (100, 10)\n",
    "start = time.time()\n",
    "accuracy_cnt = 0\n",
    "y = predict(network, x)\n",
    "p = np.argmax(y, axis=1)\n",
    "accuracy_cnt = np.sum(p == t)    \n",
    "print('Full-batch, accuracy: {:.3f},  elapsed time = {:.4f} seconds'.format(accuracy_cnt/len(x), time.time()-start))\n",
    "\n",
    "# 100 x 100 x ( (784,) x (784, 50) x (50, 100) x (100, 10))\n",
    "start = time.time()\n",
    "batch_size = 100  # 배치 크기\n",
    "accuracy_cnt = 0\n",
    "for i in range(0, len(x), batch_size):\n",
    "    x_batch = x[i:i+batch_size]\n",
    "    y_batch = predict(network, x_batch)\n",
    "    p = np.argmax(y_batch, axis=1)\n",
    "    accuracy_cnt += np.sum(p == t[i:i+batch_size])\n",
    "    \n",
    "print('Mini-batch, accuracy: {:.3f},  elapsed time = {:.4f} seconds'.format(accuracy_cnt/len(x), time.time()-start))"
   ]
  },
  {
   "cell_type": "markdown",
   "metadata": {},
   "source": [
    "> **NOTE** 수치 계산 라이브러리들은 대부분 큰 배열을 효율적으로 처리할 수 있도록 최적화되어 있다. 그리고 데이터 전송 회수를 줄여 버스의 부하(load)를 줄여 주는 것이 컴퓨터 자원을 효율적으로 사용할 수 있다. 하지만 한번에 처리할 수 있는 메모리의 크기의 제한이 있기 때문에(예. GPU memory size) 너무 배치의 크기가 커지면 오히려 효율이 떨어질 수 있다. \n",
    "\n",
    "> 따라서, 배치 크기를 적절하게 설정하여 주는 것이 중요하다. "
   ]
  },
  {
   "cell_type": "markdown",
   "metadata": {},
   "source": [
    " "
   ]
  },
  {
   "cell_type": "markdown",
   "metadata": {},
   "source": [
    "## 3.7 정리\n",
    "\n",
    "- 신경망에서는 활성화 함수로 시그모이드 함수와 ReLU 함수 같은 매끄럽게 변화하는 함수를 이용한다.\n",
    "- numpy의 다차원 배열을 잘 사용하면 신경망을 효율적으로 구현할 수 있다.\n",
    "- 기계학습 문제는 크게 회귀와 분류로 나눌 수 있다.\n",
    "- 출력층의 활성화 함수로는 회귀에서는 주로 항등 함수를, 분류에서는 주로 소프트맥스 함수를 이용한다.\n",
    "- 분류에서는 출력층의 뉴런 수로 분류하려는 클래스 수와 같게 설정한다.\n",
    "- 입력 데이터를 묶은 것을 배치라 하며, 추론 처리를 이 배치 단위로 진행하면 결과를 훨씬 빠르게 얻을 수 있다."
   ]
  }
 ],
 "metadata": {
  "kernelspec": {
   "display_name": "Python 3",
   "language": "python",
   "name": "python3"
  },
  "language_info": {
   "codemirror_mode": {
    "name": "ipython",
    "version": 3
   },
   "file_extension": ".py",
   "mimetype": "text/x-python",
   "name": "python",
   "nbconvert_exporter": "python",
   "pygments_lexer": "ipython3",
   "version": "3.6.9"
  }
 },
 "nbformat": 4,
 "nbformat_minor": 2
}
