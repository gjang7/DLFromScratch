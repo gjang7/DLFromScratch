{
 "cells": [
  {
   "cell_type": "markdown",
   "metadata": {},
   "source": [
    "## Copyrights\n",
    "1. textbook official repository: https://github.com/WegraLee/deep-learning-from-scratch\n",
    "    * 아래 python code들은 [chapter 4](https://github.com/WegraLee/deep-learning-from-scratch/tree/master/ch04)에서 가져왔습니다.\n",
    "1. fork source: https://github.com/ExcelsiorCJH/DLFromScratch [(chapter4)](https://nbviewer.org/github/ExcelsiorCJH/DLFromScratch/blob/master/Chap04-Neural_Network_Traing/Chap04-Neural_Network_Training.ipynb)\n",
    "1. additional repository: https://github.com/SDRLurker/deep-learning [(4장)](https://nbviewer.org/github/SDRLurker/deep-learning/blob/master/4장.ipynb)\n",
    "\n",
    "### Customized by Gil-Jin Jang"
   ]
  },
  {
   "cell_type": "markdown",
   "metadata": {},
   "source": [
    "## 파일 설명\n",
    "\n",
    "| 파일명 | 파일 용도 | 관련 절 | 페이지 |\n",
    "|:--   |:--      |:--    |:--      |\n",
    "| [Chap04-NN_Training.ipynb](Chap04-NN_Training.ipynb) | 내용 + 실행가능 코드 | 4.1-4.6 | 107-146 |\n",
    "| [gradient_1d.py](https://github.com/WegraLee/deep-learning-from-scratch/blob/master/ch04/gradient_1d.py) | 수치 미분으로 기울기를 구합니다. | 4.3.2 수치 미분의 예 | 125 |\n",
    "| [gradient_2d.py](https://github.com/WegraLee/deep-learning-from-scratch/blob/master/ch04/gradient_2d.py) | 수치 미분으로 기울기를 구합니다(두 편미분을 동시에 계산). | 4.4 기울기 | 129 |\n",
    "| [gradient_method.py](https://github.com/WegraLee/deep-learning-from-scratch/blob/master/ch04/gradient_method.py) | 경사하강법의 갱신 과정을 보여줍니다. | 4.4.1 경사법(경사 하강법) | 132 |\n",
    "| [gradient_simplenet.py](https://github.com/WegraLee/deep-learning-from-scratch/blob/master/ch04/gradient_simplenet.py) | simpleNet 클래스 | 4.4.2 신경망에서의 기울기 | 134 |\n",
    "| [train_neuralnet.py](https://github.com/WegraLee/deep-learning-from-scratch/blob/master/ch04/train_neuralnet.py) | 미치배치 방식으로 학습하고 시험 데이터로 평가합니다. | 4.5.2 미니배치 학습 구현하기 / 4.5.3 시험 데이터로 평가하기 | 141, 143 |\n",
    "| [two_layer_net.py](https://github.com/WegraLee/deep-learning-from-scratch/blob/master/ch04/two_layer_net.py) | 2층 신경망 클래스 | 4.5.1 2층 신경망 클래스 구현하기 | 137 |"
   ]
  },
  {
   "cell_type": "markdown",
   "metadata": {},
   "source": [
    "## 출처\n",
    "\n",
    "이미지 출처 1: overfitting https://medium.com/greyatom/what-is-underfitting-and-overfitting-in-machine-learning-and-how-to-deal-with-it-6803a989c76"
   ]
  },
  {
   "cell_type": "markdown",
   "metadata": {},
   "source": [
    "# Chap04 - 신경망 학습\n",
    "\n",
    "> 이번 장에서는 신경망 학습(training)에 대해 알아보자. **학습**이란 학습 데이터로부터 가중치 매개변수의 최적값을 자동으로 찾는것을 말한다. 또한, 이번 장에서는 신경망이 학습할 수 있도록 하는 **지표**에 해당하는 *손실함수* 에 대해 알아보자."
   ]
  },
  {
   "cell_type": "markdown",
   "metadata": {},
   "source": [
    "## 목차\n",
    "```\n",
    "4.1 데이터에서 학습한다! \n",
    "__4.1.1 데이터 주도 학습 \n",
    "__4.1.2 훈련 데이터와 시험 데이터 \n",
    "4.2 손실 함수 \n",
    "__4.2.1 평균 제곱 오차 \n",
    "__4.2.2 교차 엔트로피 오차 \n",
    "__4.2.3 미니배치 학습 \n",
    "__4.2.4 (배치용) 교차 엔트로피 오차 구현하기 \n",
    "__4.2.5 왜 손실 함수를 설정하는가? \n",
    "4.3 수치 미분 \n",
    "__4.3.1 미분 \n",
    "__4.3.2 수치 미분의 예 \n",
    "__4.3.3 편미분 \n",
    "4.4 기울기 \n",
    "__4.4.1 경사법(경사 하강법) \n",
    "__4.4.2 신경망에서의 기울기 \n",
    "4.5 학습 알고리즘 구현하기 \n",
    "__4.5.1 2층 신경망 클래스 구현하기\n",
    "__4.5.2 미니배치 학습 구현하기 \n",
    "__4.5.3 시험 데이터로 평가하기\n",
    "```"
   ]
  },
  {
   "cell_type": "markdown",
   "metadata": {},
   "source": [
    "## 4.1 데이터에서 학습한다!"
   ]
  },
  {
   "cell_type": "markdown",
   "metadata": {},
   "source": [
    "### 4.1.1 데이터 주도 학습\n",
    "\n",
    "사람이 해결하는 방법은 경험과 직관을 단서로 시행착오를 거듭하며 일을 진행한다. \n",
    "하지만 실제 문제는 매우 복잡하다. 다음 그림과 같이 사람마다 필체가 매우 다르기 때문에 \n",
    "`5`를 제대로 분류하는 프로그램을 직접 고안하고 설계하기는 의외로 매우 어렵다. \n",
    "\n",
    "|![그림 4.1](./images/4-1.png)|\n",
    "|:--:| \n",
    "|__그림 4.1__ 손글씨 숫자 `5`의 예: 사람마다 자신만의 필체가 있다.|\n",
    "\n",
    "`5`를 주어진 데이터와 전문가의 경험을 활용하여 해결하는 방법은, 전문가의 의해 정의된 방법에 의해 \n",
    "이미지로부터 **특징(feature)**을 추출하고, 그 특징의 패턴을 SVM, KNN 등의 기계학습 기술로 학습하는 방법이다. \n",
    "컴퓨터 비전 분야세서는 SIFT, SURF, HOG 등 많은 방법들이 제안되어 있다. \n",
    "\n",
    "---\n",
    "\n",
    "하지만 이미지를 벡터로 변환할 때 사용하는 특징은 여전히 ***사람***이 설계하기 때문에, \n",
    "문제에 적합한 특징을 쓰지 않으면 좋은 결과를 얻을 수 없다. \n",
    "따라서, 기계학습에서는 사람의 개입을 최소화하고 수집한 데이터로부터 패턴을 자동으로 찾으려고 노력한다. \n",
    "\n",
    "|![그림 4.2](./images/4-2.png)|\n",
    "|:--:| \n",
    "|__그림 4.2__ 규칙을 `사람`이 만드는 방식에서 `기계`가 데이터로부터 배우는 방식으로의 패러다임 전환: 회색 블록은 사람이 개입하지 않음을 뜻한다.|\n",
    "\n",
    "> 딥러닝을 **종단간 기계학습(end-to-end machine learning)**이라고도 한다. 종단간은 ‘처음부터 끝까지’라는 의미로, 데이터(입력)에서 목표한 결과(출력)를 얻는다는 뜻을 담고 있다."
   ]
  },
  {
   "cell_type": "markdown",
   "metadata": {},
   "source": [
    " "
   ]
  },
  {
   "cell_type": "markdown",
   "metadata": {},
   "source": [
    "### 4.1.2 훈련 데이터와 시험 데이터\n",
    "\n",
    "머신러닝과 딥러닝에서는 데이터를 **훈련 데이터(training data)**와 **시험 데이터(test data)**로 나눠 학습과 테스트를 진행하는 것이 일반적이다. 보통 전체 데이터에서 훈련 데이터와 시험 데이터의 비율은 `6:4`, `7:3`, 또는 `8:2` 로 나눈다.\n",
    "\n",
    "<img src=\"./images/train-test.png\" width=\"70%\" height=\"70%\" />\n",
    "\n",
    "먼저, 훈련 데이터만 사용하여 학습하면서 최적의 매개변수(가중치, 편향)를 찾는다. 그런 다음 시험 데이터를 이용하여 훈련된 모델의 성능을 평가한다. 이렇게 데이터를 나누는 이유는 범용성(일반화, generalization)을 위함이다. 만약, 데이터를 나누지 않고 전체 데이터를 가지고 학습을 한다면 이 모델은 학습한 데이터 셋에만 지나치게 최적화되어 새로운 데이터에 대한 성능은 떨어지게 된다. 이러한 문제를 **오버피팅(overfitting)**이라 한다. (그림 출처: [링크](https://medium.com/greyatom/what-is-underfitting-and-overfitting-in-machine-learning-and-how-to-deal-with-it-6803a989c76) 참고)\n",
    "\n",
    "![](./images/overfitting.png)\n"
   ]
  },
  {
   "cell_type": "markdown",
   "metadata": {},
   "source": [
    " "
   ]
  },
  {
   "cell_type": "markdown",
   "metadata": {},
   "source": [
    "## 4.2 손실 함수\n",
    "\n",
    "> loss function == error function == cost function\n",
    "\n",
    "신경망 학습에서는 현재의 상태를 '하나의 **지표**'로 표현한다. 이러한 지표를 가장 좋게 만들어주는 가중치 매개변수의 값을 탐색하는 것이 신경망 학습이다. 신경망에서 사용하는 지표를 **손실함수(Loss/Cost function)**라고 한다. 손실함수는 실제와 이론을 모두 고려해 가장 적절한 함수를 선택하며, 보통 평균제곱오차(MSE, mean squared error)와 교차 엔트로피 오차(CEE, cross entropy error)를 많이 사용한다."
   ]
  },
  {
   "cell_type": "markdown",
   "metadata": {},
   "source": [
    " "
   ]
  },
  {
   "cell_type": "markdown",
   "metadata": {},
   "source": [
    "### 4.2.1 평균제곱오차 MSE\n",
    "\n",
    "가장 많이 쓰이는 손실함수는 **평균제곱오차(MSE, Mean Squared Error)**다. MSE의 수식은 다음과 같다.\n",
    "\n",
    "$$\n",
    "E = \\frac{1}{2} \\sum_{k}{\\left( y_k - t_k \\right)}^{2}\n",
    "$$\n",
    "\n",
    "- $y_k$ : 신경망 모델이 추정한 값\n",
    "- $t_k$ : 정답 레이블 또는 데이터\n",
    "\n",
    "위의 MSE 함수를 NumPy를 이용해 구현하면 다음과 같다."
   ]
  },
  {
   "cell_type": "code",
   "execution_count": 1,
   "metadata": {},
   "outputs": [],
   "source": [
    "import numpy as np"
   ]
  },
  {
   "cell_type": "code",
   "execution_count": 2,
   "metadata": {},
   "outputs": [],
   "source": [
    "# MSE 함수 구현\n",
    "def mean_squared_error(y, t):\n",
    "    return 0.5 * np.sum((y - t)**2)"
   ]
  },
  {
   "cell_type": "code",
   "execution_count": 3,
   "metadata": {},
   "outputs": [
    {
     "name": "stdout",
     "output_type": "stream",
     "text": [
      "MSE of ex1 = 0.0975000000\n",
      "MSE of ex2 = 0.5975000000\n"
     ]
    }
   ],
   "source": [
    "# 정답은 '2' -> one-hot\n",
    "t = [0, 0, 1, 0, 0, 0, 0, 0, 0, 0]\n",
    "\n",
    "# ex1) : '2'일 확률이 가장 높다고 추정함(0.6) -> softmax 결과값\n",
    "y = [0.1, 0.05, 0.6, 0.0, 0.05, 0.1, 0.0, 0.1, 0.0, 0.0]\n",
    "print('MSE of ex1 = %.10f' % mean_squared_error(np.array(y), np.array(t)))\n",
    "\n",
    "# ex2) : '7'일 확률이 가장 높다고 추정함(0.6)\n",
    "y = [0.1, 0.05, 0.1, 0.0, 0.05, 0.1, 0.0, 0.6, 0.0, 0.0]\n",
    "print('MSE of ex2 = %.10f' % mean_squared_error(np.array(y), np.array(t)))"
   ]
  },
  {
   "cell_type": "markdown",
   "metadata": {},
   "source": [
    " "
   ]
  },
  {
   "cell_type": "markdown",
   "metadata": {},
   "source": [
    "## 4.2 교차 엔트로피 오차 CEE\n",
    "\n",
    "또 다른 손실 함수로서 **교차 엔트로피 오차(CEE, Cross Entropy Error)**도 자주 사용한다. CEE의 수식은 다음과 같다.\n",
    "\n",
    "$$\n",
    "E = - \\sum_{k}{t_k \\log{y_k}}\n",
    "$$\n",
    "\n",
    "- $\\log$ : 밑이 $e$인 자연로그($\\log_{e}$)\n",
    "- $y_k$ : 신경망 모델의 출력\n",
    "- $t_k$ : 정답 레이블\n",
    "\n",
    "> 참고: Entropy in information theory\n",
    "$$ H(x) = E[-\\log x] = \\int -p(x) \\log x  dx $$\n",
    "\n",
    "$t_k$는 정답에 해당하는 인덱스의 원소만 `1`이고 나머지는 `0`이다(원-핫 인코딩). 따라서, 위의 식처럼 실제로 정답일 때의 추정($t_k = 1$일 때의 $y_k$)의 계산만 하면 된다.\n",
    "\n",
    "<img src=\"./images/4-3.png\" width=\"50%\" height=\"50%\"/>\n",
    "\n",
    "NumPy를 이용해서 교차엔트로피를 구현해보자."
   ]
  },
  {
   "cell_type": "code",
   "execution_count": 4,
   "metadata": {},
   "outputs": [],
   "source": [
    "def cross_entropy_error(y, t):\n",
    "    delta = 1e-7  # log0 방지를 위함\n",
    "    return -np.sum(t * np.log(y + delta))"
   ]
  },
  {
   "cell_type": "code",
   "execution_count": 5,
   "metadata": {},
   "outputs": [
    {
     "name": "stdout",
     "output_type": "stream",
     "text": [
      "MSE of ex1 = 0.5108254571\n",
      "MSE of ex2 = 2.3025840930\n"
     ]
    }
   ],
   "source": [
    "# 정답은 '2' -> one-hot\n",
    "t = [0, 0, 1, 0, 0, 0, 0, 0, 0, 0]\n",
    "\n",
    "# ex1) : '2'일 확률이 가장 높다고 추정함(0.6) -> softmax 결과값\n",
    "y = [0.1, 0.05, 0.6, 0.0, 0.05, 0.1, 0.0, 0.1, 0.0, 0.0]\n",
    "print('MSE of ex1 = %.10f' % cross_entropy_error(np.array(y), np.array(t)))\n",
    "\n",
    "# ex2) : '7'일 확률이 가장 높다고 추정함(0.6)\n",
    "y = [0.1, 0.05, 0.1, 0.0, 0.05, 0.1, 0.0, 0.6, 0.0, 0.0]\n",
    "print('MSE of ex2 = %.10f' % cross_entropy_error(np.array(y), np.array(t)))"
   ]
  },
  {
   "cell_type": "markdown",
   "metadata": {},
   "source": [
    " "
   ]
  },
  {
   "cell_type": "markdown",
   "metadata": {},
   "source": [
    "### 4.2.3 미니배치 학습\n",
    "\n",
    "딥러닝은 훈련 데이터를 이용해 학습하면서, 훈련 데이터에 대한 손실함수의 값을 구하고 그 값을 **최소**로하는 매개변수(가중치, 편향)를 찾아내는 것이다. 이를 위해서는 모든 훈련 데이터를 대상으로 손실함수 값을 구해야 한다. 보통 딥러닝은 미니배치(Mini-batch) 학습을 하기때문에 미니배치 크기만큼의 데이터에 대한 각각의 손실함수를 구해 평균을 내어 **'평균 손실 함수'**를 계산한다. \n",
    "\n",
    "$$\n",
    "E = - \\frac{1}{N_i}\\sum_{i}{\\sum_{k \\in B_i}{t_{k}\\log{y_{k}}}}\n",
    "$$\n",
    "\n",
    "- $i$: 미니배치 인덱스\n",
    "- $N$: 미니배치 크기. 예: 10, 30, 100, ...\n",
    "- $t_{k} \\in \\{0, 1\\}$: $k$번째 데이터의 정답(target)\n",
    "- $y_{k} \\in \\mathcal{R}, 0 \\leq y_{k} \\leq 1$: $k$번째 입력을 이용한 추청값\n",
    "\n",
    "딥러닝에서는 훈련 데이터로부터 미니배치(mini-batch)만큼 일부만 추출하여 학습을 하고, 미니배치의 평균 손실함수를 전체 훈련 데이터의 **'근사치'**로 이용한다. 이러한 학습방법을 **미니배치 학습**이라 한다."
   ]
  },
  {
   "cell_type": "markdown",
   "metadata": {},
   "source": [
    "Batch data 추출을 위해서 지정한 범위의 수 중에서 무작위로 원하는 개수만 꺼낼 수 있는 `np.random.choice()` 함수를 사용한다. "
   ]
  },
  {
   "cell_type": "code",
   "execution_count": 6,
   "metadata": {},
   "outputs": [
    {
     "name": "stdout",
     "output_type": "stream",
     "text": [
      "[25  0 11 25 16 22 12 11  8  0]\n",
      "[ 4 17 26 10 27  2 12 25 27 14]\n",
      "[ 6 25 22 13  3 11  8 16  1  3]\n",
      "[ 3  2 16 20  8  7 21 21 25 13]\n",
      "[23 25 25  0 10  4  2  4  8 25]\n"
     ]
    }
   ],
   "source": [
    "# 10개의 데이터를 5번 무작위로 추출하고 index를 비교하여 본다 \n",
    "# NOTE: 중복 선택 가능하다. \n",
    "for i in range(5):\n",
    "    print(np.random.choice(30,10))"
   ]
  },
  {
   "cell_type": "markdown",
   "metadata": {},
   "source": [
    "아래의 코드는 MNIST 데이터셋에서 미니배치 만큼 데이터를 무작위로 가져오는 것을 구현한 코드이다."
   ]
  },
  {
   "cell_type": "code",
   "execution_count": 7,
   "metadata": {},
   "outputs": [],
   "source": [
    "import sys, os\n",
    "sys.path.append(os.pardir)  # 부모 디렉터리의 파일을 가져올 수 있도록 설정\n",
    "# sys.path.append('..')  # 위와 같다\n",
    "import numpy as np\n",
    "from dataset.mnist import load_mnist"
   ]
  },
  {
   "cell_type": "code",
   "execution_count": 8,
   "metadata": {},
   "outputs": [
    {
     "name": "stdout",
     "output_type": "stream",
     "text": [
      "x_train.shape : (60000, 784)\n",
      "t_train.shape : (60000, 10)\n",
      "x_test.shape : (10000, 784)\n",
      "t_test.shape : (10000, 10)\n",
      "t_test[0] = [0. 0. 0. 0. 0. 0. 0. 1. 0. 0.]\n",
      "[0.   0.   0.   0.   0.   0.   0.   0.   0.   0.   0.   0.   0.   0.\n",
      " 0.   0.   0.   0.   0.   0.   0.   0.   0.   0.   0.   0.   0.   0.\n",
      " 0.   0.   0.   0.   0.   0.   0.   0.   0.   0.   0.   0.   0.   0.\n",
      " 0.   0.   0.   0.   0.   0.   0.   0.   0.   0.62 0.   0.   0.   0.\n",
      " 0.   0.   1.   0.78 0.78 0.67 0.   0.   0.   0.28 1.   1.   1.   0.\n",
      " 0.   0.   0.   0.26 0.26 1.   0.   0.   0.   0.   0.   0.   0.82 0.\n",
      " 0.   0.   0.   0.   0.   0.33 0.   0.   0.   0.   0.   0.   0.17 0.\n",
      " 0.   0.   0.   0.   0.23 0.   0.   0.   0.   0.   0.   0.52 0.   0.\n",
      " 0.   0.   0.   0.   0.8  0.   0.   0.   0.   0.   0.   1.   0.   0.\n",
      " 0.   0.   0.   0.   0.94 0.   0.   0.   0.   0.   0.   0.65 0.   0.\n",
      " 0.   0.   0.   0.01 0.14 0.   0.   0.   0.   0.   0.15 0.   0.   0.\n",
      " 0.   0.   0.   0.88 0.   0.   0.   0.   0.   0.   1.   0.   0.   0.\n",
      " 0.   0.   0.   1.   0.   0.   0.   0.   0.   0.   1.   0.   0.   0.\n",
      " 0.   0.   0.   0.81 0.   0.   0.   0.   0.   0.   0.   0.   0.   0.  ]\n"
     ]
    }
   ],
   "source": [
    "(x_train, t_train), (x_test, t_test) = load_mnist(normalize=True, one_hot_label=True)\n",
    "\n",
    "print('x_train.shape :', x_train.shape)\n",
    "print('t_train.shape :', t_train.shape)\n",
    "print('x_test.shape :', x_test.shape)\n",
    "print('t_test.shape :', t_test.shape)\n",
    "print('t_test[0] =',t_test[0])\n",
    "with np.printoptions(precision=2, suppress=True):\n",
    "    print(x_test[0][::4])"
   ]
  },
  {
   "cell_type": "code",
   "execution_count": 9,
   "metadata": {},
   "outputs": [
    {
     "name": "stdout",
     "output_type": "stream",
     "text": [
      "batch_mask : [ 5690 10407 11082  1688  3769 26106 59994 57948   294 36783]\n",
      "x_batch.shape : (10, 784)\n",
      "t_batch.shape : (10, 10)\n"
     ]
    }
   ],
   "source": [
    "train_size = x_train.shape[0]\n",
    "batch_size = 10\n",
    "# 0~59999 에서 batch_size만큼 random 추출\n",
    "batch_mask = np.random.choice(train_size, batch_size)\n",
    "x_batch = x_train[batch_mask]\n",
    "t_batch = t_train[batch_mask]\n",
    "\n",
    "print('batch_mask :', batch_mask)\n",
    "print('x_batch.shape :', x_batch.shape)\n",
    "print('t_batch.shape :', t_batch.shape)"
   ]
  },
  {
   "cell_type": "markdown",
   "metadata": {},
   "source": [
    " "
   ]
  },
  {
   "cell_type": "markdown",
   "metadata": {},
   "source": [
    "### 4.2.4 (배치용) 교차 엔트로피 오차 구현하기\n",
    "\n"
   ]
  },
  {
   "cell_type": "code",
   "execution_count": 10,
   "metadata": {},
   "outputs": [],
   "source": [
    "# mini-batch CEE\n",
    "def cross_entropy_error(y, t):\n",
    "    if y.ndim == 1:   # vector y.shape = (20,)\n",
    "        t = t.reshape(1, t.size)  # (1,20)\n",
    "        y = y.reshape(1, y.size)  # (1,20)\n",
    "        \n",
    "    batch_size = y.shape[0]   # number of samples in a batch\n",
    "    return -np.sum(t * np.log(y), axis=0) / batch_size"
   ]
  },
  {
   "cell_type": "markdown",
   "metadata": {},
   "source": [
    " "
   ]
  },
  {
   "cell_type": "markdown",
   "metadata": {},
   "source": [
    "정답 레이블이 원-핫 인코딩이 아니라 '2'나 '7' 등의 숫자 레이블로 주어졌들 때의 교차 엔트로피 오차를 다음과 같이 구할 수 있다."
   ]
  },
  {
   "cell_type": "code",
   "execution_count": 11,
   "metadata": {},
   "outputs": [],
   "source": [
    "def cross_entropy_error(y, t):\n",
    "    if y.ndim == 1:\n",
    "        t = t.reshape(1, t.size)\n",
    "        y = y.reshape(1, y.size)\n",
    "\n",
    "    # y: N x C     [0.1 0.1 0.6 0.1 0.1 .....]\n",
    "    # t: N x 1, N  [2] --> [0 0 1 0 ....]\n",
    "    # t*log(y) = 0*0.1+0*0.1+1*0.6+... = 1*0.6\n",
    "\n",
    "    batch_size = y.shape[0]\n",
    "    return -np.sum(np.log(y[np.arange(batch_size), t])) / batch_size"
   ]
  },
  {
   "cell_type": "markdown",
   "metadata": {},
   "source": [
    " "
   ]
  },
  {
   "cell_type": "markdown",
   "metadata": {},
   "source": [
    "### 4.2.5 왜 손실 함수를 설정하는가?\n",
    "\n",
    "\n",
    "왜 직접적인 **정확도**를 쓰지 않고 **손실 함수의 값**을 쓰는가? \n",
    "* 정확도를 지표로 하면 매개변의 미분이 대부분 0이 되기 때문이다. \n",
    "\n",
    "신경망 학습의 지표를 손실함수가 아닌 정확도로 설정할 경우 정확도는 33%, 34% 처럼 연속적인 값이 아닌, 불연속적인 값으로 변하기 때문에 '미분'이 가능하지 않다. 활성화 함수로 계단함수를 사용하지 않는 이유 또한, 값이 불연속적이기 때문이다. \n",
    "따라서, 손실함수를 정의할 때는 미분값이 (이론적으로는) `0`이 되지 않는 sigmoid 함수와 softmax 함수 등이 사용된다. \n",
    "\n",
    "|![그림 4.4](./images/4-4.png)|\n",
    "|:--:| \n",
    "|__그림 4.4__ step function and sigmoid function: 계단 함수는 대부분 기울기가 `0`이지만, 시그모이드 함수의 기울기(접선)는 `0`이 아니다. |"
   ]
  },
  {
   "cell_type": "markdown",
   "metadata": {},
   "source": [
    " "
   ]
  },
  {
   "cell_type": "markdown",
   "metadata": {},
   "source": [
    "## 4.3 수치 미분\n",
    "\n",
    "우리가 함수의 수학식을 정확히 알고 있으면 미분 공식을 이용하여 정확한 미분값(경사)를 알 수 있지만, 함수의 출력만 알고 있다면 극한의 정의에 따라 수치 미분을 수행할 수 있다."
   ]
  },
  {
   "cell_type": "markdown",
   "metadata": {},
   "source": [
    "### 4.3.1 미분의 정의\n",
    "\n",
    "미분은 순간 변화의 정도를 나타낸 것이며, 수식은 다음과 같다.\n",
    "\n",
    "$$\n",
    "\\frac{df(x)}{dx} = \\lim_{h \\rightarrow 0}{\\frac{f(x+h)-f(x-h)}{2h}}\n",
    "$$\n",
    "\n",
    "불연속 함수의 경우 양의 방향에서만 극한값을 구할 수 있다.\n",
    "$$\n",
    "\\frac{df(x)}{dx} = \\lim_{h \\rightarrow 0}{\\frac{f(x+h)-f(x)}{h}}\n",
    "$$\n",
    "마찬가지로 음의 방향에서만 극한값을 구할 수 있다.\n",
    "$$\n",
    "\\frac{df(x)}{dx} = \\lim_{h \\rightarrow 0}{\\frac{f(x)-f(x-h)}{h}}\n",
    "$$"
   ]
  },
  {
   "cell_type": "code",
   "execution_count": 12,
   "metadata": {},
   "outputs": [],
   "source": [
    "def numerical_diff(f, x, h = 1e-4):\n",
    "    return (f(x+h) - f(x-h)) / (2*h)"
   ]
  },
  {
   "cell_type": "markdown",
   "metadata": {},
   "source": [
    "|![그림 4.5](./images/4-5.png)|\n",
    "|:--:| \n",
    "|__그림 4.5__ **해석적(analytic)** 미분과 **수치(numerical)** 미분(근사로 구한 접선)의 비교 |\n",
    "\n",
    "> **수치(numerical)** 미분은 아주 작은 차분으로 기울기를 구하는 것이며, 수식을 전개해 미분하는 것을 **해석적(analytic)** 미분, 또는 **해석적 해(anlytic solution)**을 구한다고 표한한다. \n",
    "\n",
    "> 예를 들어 $y = x^2$의 미분은 해석적으로는 $\\frac{dy}{dx} = 2x$ 로 풀 수 있으며, $x=2$ 일때 y의 미분값은 `4`가 된다. \n",
    "\n",
    "> 이에 대한 수치 미분은 $h$의 값에 따라 차이가 있다.\n",
    "$$ \\left.\\frac{dy}{dx}\\right|_{x=x_0, h} = \\frac{f(x_0+h)^2 - f(x_0-h)^2}{2h} $$"
   ]
  },
  {
   "cell_type": "code",
   "execution_count": 13,
   "metadata": {},
   "outputs": [
    {
     "name": "stdout",
     "output_type": "stream",
     "text": [
      "4.000000000004\n",
      "3.9999999999995595\n",
      "3.999999999999937\n",
      "4.000000000000001\n"
     ]
    }
   ],
   "source": [
    "def f_(x): return x**2\n",
    "print(numerical_diff(f=f_, x=2.0, h=0.0001))\n",
    "print(numerical_diff(f=f_, x=2.0, h=0.001))\n",
    "print(numerical_diff(f=f_, x=2.0, h=0.01))\n",
    "print(numerical_diff(f=f_, x=2.0, h=0.1))"
   ]
  },
  {
   "cell_type": "markdown",
   "metadata": {},
   "source": [
    "### 4.3.2 수치 미분의 예\n",
    "\n",
    "아래의 함수를 미분해보고 접선을 그려 본다.\n",
    "\n",
    "$$\n",
    "y = 0.01x^{2} + 0.1x\n",
    "$$"
   ]
  },
  {
   "cell_type": "code",
   "execution_count": 14,
   "metadata": {},
   "outputs": [],
   "source": [
    "def function_1(x):\n",
    "    return 0.01*x**2 + 0.1*x"
   ]
  },
  {
   "cell_type": "markdown",
   "metadata": {},
   "source": [
    "이 함수를 그린다"
   ]
  },
  {
   "cell_type": "code",
   "execution_count": 15,
   "metadata": {},
   "outputs": [
    {
     "data": {
      "image/png": "[encoded data removed]",
      "text/plain": [
       "<Figure size 432x288 with 1 Axes>"
      ]
     },
     "metadata": {},
     "output_type": "display_data"
    }
   ],
   "source": [
    "%matplotlib inline\n",
    "import numpy as np\n",
    "import matplotlib.pyplot as plt\n",
    "\n",
    "x = np.linspace(0,20,101)\n",
    "plt.plot(x,function_1(x))\n",
    "plt.xlabel('$x$'); plt.ylabel('$0.01x^{2} + 0.1x$')\n",
    "plt.show()"
   ]
  },
  {
   "cell_type": "code",
   "execution_count": 16,
   "metadata": {},
   "outputs": [
    {
     "name": "stdout",
     "output_type": "stream",
     "text": [
      "0.1999999999990898\n",
      "0.2999999999986347\n"
     ]
    }
   ],
   "source": [
    "# x = 5, 10 에서의 미분을 계산해 본다\n",
    "print(numerical_diff(function_1, 5))\n",
    "print(numerical_diff(function_1, 10))"
   ]
  },
  {
   "cell_type": "code",
   "execution_count": 17,
   "metadata": {},
   "outputs": [],
   "source": [
    "# 접선을 그리는 함수를 생성하는 함수\n",
    "def tangent_line(f, x):\n",
    "    d = numerical_diff(f, x)\n",
    "    y = f(x) - d*x\n",
    "    return lambda t: d*t + y"
   ]
  },
  {
   "cell_type": "code",
   "execution_count": 18,
   "metadata": {},
   "outputs": [
    {
     "data": {
      "image/png": "[encoded data removed]",
      "text/plain": [
       "<Figure size 432x288 with 1 Axes>"
      ]
     },
     "metadata": {},
     "output_type": "display_data"
    }
   ],
   "source": [
    "%matplotlib inline\n",
    "import numpy as np\n",
    "import matplotlib.pylab as plt\n",
    "\n",
    "x = np.linspace(0,20,101)\n",
    "tline5 = tangent_line(function_1, 5)\n",
    "tline10 = tangent_line(function_1, 10)\n",
    "\n",
    "plt.plot(x,function_1(x))\n",
    "plt.plot(x,tline5(x))\n",
    "plt.plot(x,tline10(x))\n",
    "xc=np.array([5,10])\n",
    "plt.scatter(xc,function_1(xc),marker='v')\n",
    "plt.xlabel('$x$'); plt.ylabel('$0.01x^{2} + 0.1x$')\n",
    "plt.legend(['$y=f(x)$', '$dy/dx \\ @ \\ {x=5}$', '$dy/dx \\ @ \\ {x=10}$'])\n",
    "#plt.legend(['$y=f(x)$', '$\\left.\\frac{dy}{dx}\\right|_{x=5}$', '$\\left.\\frac{dy}{dx}\\right|_{x=10}$'])\n",
    "plt.show()"
   ]
  },
  {
   "cell_type": "markdown",
   "metadata": {},
   "source": [
    " "
   ]
  },
  {
   "cell_type": "markdown",
   "metadata": {},
   "source": [
    "### 4.3.3 편미분\n",
    "\n",
    "변수가 2개인 다음의 함수를 고려한다. \n",
    "\n",
    "$$\n",
    "f(x_0, x_1) = x_{0}^{2} + x_{1}^{2}\n",
    "$$\n",
    "\n",
    "|![그림 4.8](./images/4-8.png)|\n",
    "|:--:| \n",
    "|__그림 4.8__ $f(x_0, x_1) = x_{0}^{2} + x_{1}^{2}$ 의 그래프"
   ]
  },
  {
   "cell_type": "code",
   "execution_count": 19,
   "metadata": {},
   "outputs": [],
   "source": [
    "def function_2(x):\n",
    "    return np.sum(x**2)   # or x[0]**2 + x[2]**2"
   ]
  },
  {
   "cell_type": "markdown",
   "metadata": {},
   "source": [
    "변수가 2개이므로 이 함수를 미분하기 위하여 나머지 변수는 상수라고 가정하고 하나의 변수에 대해서만 미분을 취한다. \n",
    "이를 `**편미분**`이라고 한다.\n",
    "\n",
    "$$\n",
    "\\frac{\\partial f}{\\partial x_0} = 2x_0, \\quad \\frac{\\partial f}{\\partial x_1} = 2x_1\n",
    "$$\n",
    "$$\n",
    "x_0 = 3, \\ x_1 = 4 \\quad \\Rightarrow \\quad \\frac{\\partial f}{\\partial x_0} = 6, \\quad \\frac{\\partial f}{\\partial x_1} = 8\n",
    "$$\n",
    "$x_0 = 3$, $x_1 = 4$ 의 편미분 값을 구하는 것을 수치미분으로 구현하면 다음과 같다."
   ]
  },
  {
   "cell_type": "code",
   "execution_count": 20,
   "metadata": {},
   "outputs": [
    {
     "name": "stdout",
     "output_type": "stream",
     "text": [
      "df2/dx0(x0=3) = 6.00000000000378\n",
      "df2/dx1(x1=4) = 7.999999999999119\n"
     ]
    }
   ],
   "source": [
    "# def f2_x0(x0): return x0*x0 + 2.0*4.0 \n",
    "# def f2_x1(x1): return 2.0*3.0 + x1*x1\n",
    "def f2_x0(x0): return function_2(np.array([x0, 4]))\n",
    "def f2_x1(x1): return function_2(np.array([3, x1]))\n",
    "print('df2/dx0(x0=3) =', numerical_diff(f2_x0,3.0))\n",
    "print('df2/dx1(x1=4) =', numerical_diff(f2_x1,4.0))"
   ]
  },
  {
   "cell_type": "markdown",
   "metadata": {},
   "source": [
    " "
   ]
  },
  {
   "cell_type": "markdown",
   "metadata": {},
   "source": [
    "## 4.4 기울기\n",
    "\n",
    "위에서 편미분을 계산할 때, $x_0$와 $x_1$을 따로 계산했다. 이번에는 $(x_0, x_1)$ 양쪽의 편미분을 묶어서 $\\left( \\frac{\\partial f}{\\partial x_0}, \\frac{\\partial f}{\\partial x_1} \\right)$ 계산해보자. 이때, $\\left( \\frac{\\partial f}{\\partial x_0}, \\frac{\\partial f}{\\partial x_1} \\right)$ 와 같이 모든 변수의 편미분을 벡터로 나타낸 것을 **기울기 벡터**(gradient vector)라고 한다. "
   ]
  },
  {
   "cell_type": "code",
   "execution_count": 21,
   "metadata": {},
   "outputs": [],
   "source": [
    "def _numerical_gradient_no_batch(f, x):\n",
    "    # f: method (function), x: (p,) vector\n",
    "    h = 1e-4 # 0.0001\n",
    "    grad = np.zeros_like(x) # x와 형상이 같은 배열을 생성\n",
    "    \n",
    "    for idx in range(x.size):\n",
    "        x0 = x[idx]\n",
    "        \n",
    "        # f(x+h) 계산\n",
    "        x[idx] = x0 + h\n",
    "        fxh1 = f(x)\n",
    "        \n",
    "        # f(x-h) 계산\n",
    "        x[idx] = x0 - h \n",
    "        fxh2 = f(x) \n",
    "        \n",
    "        grad[idx] = (fxh1 - fxh2) / (2*h)\n",
    "        x[idx] = x0 # 값 복원\n",
    "        \n",
    "    return grad  # size (p,) vector\n",
    "\n",
    "\n",
    "def numerical_gradient(f, X):  # X: vector or matrix\n",
    "    if X.ndim == 1:   # vector\n",
    "        return _numerical_gradient_no_batch(f, X)\n",
    "    else:   # matrix of size N x p\n",
    "        grad = np.zeros_like(X)        \n",
    "        for idx, x in enumerate(X):\n",
    "            grad[idx] = _numerical_gradient_no_batch(f, x)        \n",
    "        return grad"
   ]
  },
  {
   "cell_type": "code",
   "execution_count": 22,
   "metadata": {},
   "outputs": [],
   "source": [
    "def function_2(x):\n",
    "    if x.ndim == 1:\n",
    "        return np.sum(x**2)  # (1,) scalar\n",
    "    else:   # x is of size (N,p)\n",
    "        return np.sum(x**2, axis=1)  # (N,)\n",
    "\n",
    "def tangent_line(f, x):\n",
    "    d = numerical_gradient(f, x)\n",
    "    y = f(x) - d*x\n",
    "    return lambda t: d*t + y"
   ]
  },
  {
   "cell_type": "code",
   "execution_count": 23,
   "metadata": {
    "scrolled": true
   },
   "outputs": [
    {
     "name": "stdout",
     "output_type": "stream",
     "text": [
      "[6. 8.]\n",
      "[0. 4.]\n",
      "[6. 0.]\n",
      "\n",
      "[6.00000000000378  7.999999999999119]\n",
      "[0.             4.000000000004]\n",
      "[6.000000000012662 0.               ]\n"
     ]
    }
   ],
   "source": [
    "print(numerical_gradient(function_2, np.array((3.0, 4.0))))\n",
    "print(numerical_gradient(function_2, np.array((0.0, 2.0))))\n",
    "print(numerical_gradient(function_2, np.array((3.0, 0.0))))\n",
    "print()\n",
    "\n",
    "# much higher precision to show the numerical gradient error\n",
    "with np.printoptions(precision=20, suppress=True):\n",
    "    for x in [(3.0, 4.0), (0.0, 2.0), (3.0, 0.0)]:\n",
    "        print(numerical_gradient(function_2, np.array(x)))        "
   ]
  },
  {
   "cell_type": "markdown",
   "metadata": {},
   "source": [
    "이제 아래로 볼록한 2차식 $f(x_0, x_1) = x_{0}^{2} + x_{1}^{2}$ 의 gradient를 2차원 그래프로 그려 보자.\n",
    "코드는 [gradient_2d.py](https://github.com/WegraLee/deep-learning-from-scratch/blob/master/ch04/gradient_2d.py)를 참고하였다.\n",
    "\n",
    "<img src=\"./images/4-8.png\" width='50%'>"
   ]
  },
  {
   "cell_type": "code",
   "execution_count": 24,
   "metadata": {},
   "outputs": [
    {
     "name": "stderr",
     "output_type": "stream",
     "text": [
      "No handles with labels found to put in legend.\n"
     ]
    },
    {
     "data": {
      "image/png": "[encoded data removed]",
      "text/plain": [
       "<Figure size 432x288 with 1 Axes>"
      ]
     },
     "metadata": {},
     "output_type": "display_data"
    }
   ],
   "source": [
    "# source: gradient_2d.py at \n",
    "# https://github.com/WegraLee/deep-learning-from-scratch/blob/master/ch04/gradient_2d.py\n",
    "%matplotlib inline\n",
    "x0 = np.arange(-2, 2.5, 0.25)\n",
    "x1 = np.arange(-2, 2.5, 0.25)\n",
    "X, Y = np.meshgrid(x0, x1)\n",
    "\n",
    "X = X.flatten()\n",
    "Y = Y.flatten()\n",
    "\n",
    "grad = numerical_gradient(function_2, np.array([X, Y]) )\n",
    "\n",
    "plt.figure()\n",
    "plt.quiver(X, Y, -grad[0], -grad[1],  angles=\"xy\",color=\"#666666\")\n",
    "plt.xlim([-2, 2])\n",
    "plt.ylim([-2, 2])\n",
    "plt.xlabel('$x_0$')\n",
    "plt.ylabel('$x_1$')\n",
    "plt.grid()\n",
    "plt.legend()\n",
    "plt.draw()\n",
    "plt.show()"
   ]
  },
  {
   "cell_type": "markdown",
   "metadata": {},
   "source": [
    " "
   ]
  },
  {
   "cell_type": "markdown",
   "metadata": {},
   "source": [
    "### 4.4.1 경사 하강법\n",
    "\n",
    "일반적인 문제의 손실 함수는 매우 복잡하고 매개변수 공간이 광대하여 최적의 값을 찾기 매우 어렵다.\n",
    "이런 상황에서 기울기는 최적값을 찾기 위한 유일한 단서이지만, \n",
    "실제로 복잡한 함수에서는 기울기가 가리키는 방향에 최소값이 없는 경우가 대부분이다. \n",
    "\n",
    "> 함수가 **최소값**, **최대값**, 또는 ***saddle point***에서는 기울기가 0이다. 또한 함수가 넓은 영역에서 미분값 0을 가질 수 있으며 이러한 곳을 ***plateau***라고 한다. \n",
    "\n",
    "기울어진 방향이 꼭 최소값/최대값을 가리키는 것은 아니지만, 그 방향으로 가야 함수의 값을 줄일 수 있다. 그래서 기울기 정보를 단서로 학습할 방향을 정해야 한다. "
   ]
  },
  {
   "cell_type": "markdown",
   "metadata": {},
   "source": [
    "딥러닝 학습에서 최적의 매개변수(가중치, 편향) 즉, 손실함수가 최소가 되게 하는 매개변수를 찾기 위해 **경사 하강법(Gradient descent)**를 사용한다. \n",
    "\n",
    "> 경사법은 최소값을 찾을 경우에는 **경사 하강법(gradient descent)**, 최대값을 찾을 때에는 **경사 상승법(gradient ascent)** 라고 한다. 하지만 부호를 반전시키면 동일하기 때문에 본질적으로는 중요하지 않다.\n",
    "\n",
    "$$\n",
    "x_0 = x_0 - \\eta \\frac{\\partial f}{\\partial x_0}\n",
    "$$\n",
    "\n",
    "$$\n",
    "x_1 = x_1 - \\eta \\frac{\\partial f}{\\partial x_1}\n",
    "$$\n",
    "\n",
    "$\\eta$는 업데이트하는 양을 나타내며, **학습률(learning rate)**라고 한다.\n",
    "\n",
    "> 학습률 같은 매개변수를 하이퍼파라미터(hyper parameter)라고 한다. 하이퍼파라미터는 사람이 직접 설정해야 하는 매개변수다."
   ]
  },
  {
   "cell_type": "code",
   "execution_count": 25,
   "metadata": {},
   "outputs": [],
   "source": [
    "def gradient_descent(f, init_x, lr=0.01, step_num=100):\n",
    "    x = init_x\n",
    "    x_history = []\n",
    "\n",
    "    for i in range(step_num):\n",
    "        x_history.append( x.copy() )\n",
    "        grad = numerical_gradient(f, x)\n",
    "        x -= lr * grad\n",
    "\n",
    "    return x, np.array(x_history)"
   ]
  },
  {
   "cell_type": "code",
   "execution_count": 26,
   "metadata": {},
   "outputs": [
    {
     "data": {
      "image/png": "[encoded data removed]",
      "text/plain": [
       "<Figure size 432x288 with 1 Axes>"
      ]
     },
     "metadata": {},
     "output_type": "display_data"
    },
    {
     "name": "stdout",
     "output_type": "stream",
     "text": [
      "l=0.10, x*=(-0.035,0.046)  4.00 3.20 ... 0.07 0.06 \n"
     ]
    },
    {
     "data": {
      "image/png": "[encoded data removed]",
      "text/plain": [
       "<Figure size 432x288 with 1 Axes>"
      ]
     },
     "metadata": {},
     "output_type": "display_data"
    },
    {
     "name": "stdout",
     "output_type": "stream",
     "text": [
      "l=0.05, x*=(-0.365,0.486)  4.00 3.60 ... 0.60 0.54 \n"
     ]
    },
    {
     "data": {
      "image/png": "[encoded data removed]",
      "text/plain": [
       "<Figure size 432x288 with 1 Axes>"
      ]
     },
     "metadata": {},
     "output_type": "display_data"
    },
    {
     "name": "stdout",
     "output_type": "stream",
     "text": [
      "l=0.30, x*=(-0.000,0.000)  4.00 1.60 ... 0.00 0.00 \n"
     ]
    },
    {
     "data": {
      "image/png": "[encoded data removed]",
      "text/plain": [
       "<Figure size 432x288 with 1 Axes>"
      ]
     },
     "metadata": {},
     "output_type": "display_data"
    },
    {
     "name": "stdout",
     "output_type": "stream",
     "text": [
      "l=1.00, x*=(-3.000,4.000)  4.00 -4.00 ... 4.00 -4.00 \n"
     ]
    }
   ],
   "source": [
    "%matplotlib inline\n",
    "def gd_plot(f, lr, step_num):\n",
    "    init_x = np.array([-3.0, 4.0])    \n",
    "    x, x_history = gradient_descent(f, init_x, lr=lr, step_num=step_num)\n",
    "    plt.plot( [-5, 5], [0,0], '--b')\n",
    "    plt.plot( [0,0], [-5, 5], '--b')\n",
    "    plt.plot(x_history[:,0], x_history[:,1], 'o')\n",
    "    plt.xlim(-3.5, 3.5)\n",
    "    plt.ylim(-4.5, 4.5)\n",
    "    plt.xlabel(\"$X_0$\")\n",
    "    plt.ylabel(\"$X_1$\")\n",
    "    plt.show()\n",
    "    return x, x_history\n",
    "  \n",
    "step_num = 20\n",
    "L = [0.1, 0.05, 0.3, 1.0]\n",
    "for lr in L:\n",
    "    x, xh = gd_plot(function_2, lr, step_num)\n",
    "    print('l=%.2f, x*=(%.3f,%.3f)  %.2f %.2f ... %.2f %.2f ' % (lr, x[0], x[1], xh[0,1], xh[1,1], xh[-2,1], xh[-1,1]))"
   ]
  },
  {
   "cell_type": "markdown",
   "metadata": {},
   "source": [
    " "
   ]
  },
  {
   "cell_type": "markdown",
   "metadata": {},
   "source": [
    "### 4.4.2 신경망에서의 기울기\n",
    "\n",
    "가중치 매개변수에 대한 손실 함수의 기울기(***gradient***)를 구한다. \n",
    "기울기의 차원은 매개변수의 차원과 같다.\n",
    "\n",
    "$$\n",
    "\\mathrm{W} = \\begin{bmatrix} w_{11} & w_{21}  & w_{31} \\\\ w_{12} & w_{22} & w_{32} \\end{bmatrix}, \\quad\n",
    "\\frac{\\partial L}{\\partial \\mathrm{W}} = \\begin{bmatrix} \\frac { \\partial L }{ \\partial w_{ 11 } }  & \\frac { \\partial L }{ \\partial w_{ 21 } } & \\frac { \\partial L }{ \\partial w_{ 31 } }  \\\\ \\frac { \\partial L }{ \\partial w_{ 12 } }  & \\frac { \\partial L }{ \\partial w_{ 22 } } & \\frac { \\partial L }{ \\partial w_{ 32 } }  \\end{bmatrix}\n",
    "$$"
   ]
  },
  {
   "cell_type": "code",
   "execution_count": 27,
   "metadata": {},
   "outputs": [],
   "source": [
    "import sys, os\n",
    "sys.path.append(os.pardir)\n",
    "import numpy as np\n",
    "from common.functions import softmax, cross_entropy_error\n",
    "from common.gradient import numerical_gradient\n",
    "\n",
    "'''\n",
    "// equivalent C++ class\n",
    "class SimpleNet {\n",
    "    double **W;\n",
    "    ...\n",
    "    \n",
    "    SimpleNet() { }\n",
    "    ~SimpleNet() {}\n",
    "    double predict(double *x) { ... }\n",
    "}\n",
    "'''\n",
    "\n",
    "class simpleNet:\n",
    "    #W = None   # not declaration, but initialization\n",
    "    def __init__(self):  # constructor, self \n",
    "        self.W = np.random.randn(2, 3)  # 정규분포로 초기화\n",
    "        \n",
    "    def predict(self, x):\n",
    "        return np.dot(x, self.W)\n",
    "    \n",
    "    def loss(self, x, t):\n",
    "        return cross_entropy_error(softmax(self.predict(x)),t)\n",
    "        '''\n",
    "        # longer lines\n",
    "        z = self.predict(x)\n",
    "        y = softmax(z)\n",
    "        loss = cross_entropy_error(y, t)\n",
    "        return loss\n",
    "        '''        "
   ]
  },
  {
   "cell_type": "code",
   "execution_count": 28,
   "metadata": {},
   "outputs": [
    {
     "name": "stdout",
     "output_type": "stream",
     "text": [
      "[[-0.11934016 -0.04478759  0.54739128]\n",
      " [ 0.37816204  1.25687002  0.11430894]]\n"
     ]
    }
   ],
   "source": [
    "net = simpleNet()\n",
    "print(net.W)"
   ]
  },
  {
   "cell_type": "code",
   "execution_count": 29,
   "metadata": {},
   "outputs": [
    {
     "name": "stdout",
     "output_type": "stream",
     "text": [
      "[0.26874174 1.10431047 0.43131282] 1\n",
      "1.3376445326119517\n"
     ]
    }
   ],
   "source": [
    "x = np.array([0.6, 0.9])\n",
    "p = net.predict(x)\n",
    "print(p, np.argmax(p))\n",
    "\n",
    "t = t = np.array([0, 0, 1])\n",
    "print(net.loss(x,t))"
   ]
  },
  {
   "cell_type": "code",
   "execution_count": 30,
   "metadata": {},
   "outputs": [
    {
     "name": "stdout",
     "output_type": "stream",
     "text": [
      "[[ 0.13384913  0.30867286 -0.44252199]\n",
      " [ 0.2007737   0.46300929 -0.66378299]]\n"
     ]
    }
   ],
   "source": [
    "def f(w): return net.loss(x, t)\n",
    "dW = numerical_gradient(f, net.W)\n",
    "print(dW)"
   ]
  },
  {
   "cell_type": "code",
   "execution_count": 31,
   "metadata": {},
   "outputs": [
    {
     "name": "stdout",
     "output_type": "stream",
     "text": [
      "[[ 0.13384913  0.30867286 -0.44252199]\n",
      " [ 0.2007737   0.46300929 -0.66378299]]\n"
     ]
    }
   ],
   "source": [
    "# 좀더 간단하게 정의\n",
    "f = lambda w: net.loss(x, t)\n",
    "dW = numerical_gradient(f, net.W)\n",
    "print(dW)"
   ]
  },
  {
   "cell_type": "markdown",
   "metadata": {},
   "source": [
    " "
   ]
  },
  {
   "cell_type": "markdown",
   "metadata": {},
   "source": [
    "## 4.5 학습 알고리즘 구현하기\n",
    "\n",
    "1. **미니배치**: 훈련 데이터 중 일부를 무작위로 가져옴\n",
    "2. **기울기 산출**: 미니배치의 손실함수 값을 줄이기 위해 각 가중치 매개변수의 기울기를 구한다.\n",
    "3. **매개변수 갱신**: 학습률 만큼 매개변수를 갱신한다(`Gradient Descent`).\n",
    "4. 1 ~ 3 단계 반복해준다."
   ]
  },
  {
   "cell_type": "markdown",
   "metadata": {},
   "source": [
    "### 4.5.1 2층 신경망 클래스 구현하기 \n",
    "\n",
    "코드는 [two_layer_net.py](https://github.com/WegraLee/deep-learning-from-scratch/blob/master/ch04/two_layer_net.py)를 참고하였다.\n",
    "\n",
    "<center> __표 4.1__ TwoLayerLet 클래스의 내부 변수 </center>\n",
    "\n",
    "|변수|설명|\n",
    "|:------------:|:-------------| \n",
    "|params|신경망의 매개변수를 보관하는 dictionary variable|\n",
    "||`params['W1']`, `params['b1']`은 layer 1의 가중치와 bias|\n",
    "||`params['W2']`, `params['b2']`은 layer 2의 가중치와 bias|\n",
    "|grads|`gradient()`를 이용해 계산한 기울기를 보관하는 dictionary variable|\n",
    "||`grads['W1']`, `grads['b1']`은 layer 1의 가중치의 기울기와 bias의 기울기|\n",
    "||`grads['W2']`, `grads['b2']`은 layer 2의 가중치의 기울기와 bias의 기울기|\n",
    "\n",
    "<center> __표 4.2__ TwoLayerLet 클래스의 함수들 </center>\n",
    "\n",
    "|함수|설명|\n",
    "|:------------|:-------------| \n",
    "|`__init__(self, input_size, `|초기화. 인수는 입력 크기, |\n",
    "|`hidden_size, output_size, `|은닉층의 뉴런 수, 출력층의 뉴런 수, |\n",
    "|`weight_init_std, `|정규분포 초기화 표준편차, |\n",
    "|`grad_comp_mode`| 미분 계산 방법(`numerical/analytical`)|\n",
    "|`predict(self, x)`|영상 입력 `x`에 대한 예측(추론)|\n",
    "|`loss(self, x, t)`|손실 함수의 값을 구한다.|\n",
    "|`accuracy(self, x, t)`|주어진 정답을 이용하여 정확도를 구한다.|\n",
    "|`gradient(self, x, t)`|가중치 매개변수의 기울기를 구한다.|\n",
    "|`_numerical_gradient(self, x, t)`|(hidden) numerical gradient|\n",
    "|`_analytical_gradient(self, x, t)`|(hidden) analytical gradient|"
   ]
  },
  {
   "cell_type": "code",
   "execution_count": 32,
   "metadata": {},
   "outputs": [],
   "source": [
    "# source: two_layer_net.py at \n",
    "# https://github.com/WegraLee/deep-learning-from-scratch/blob/master/ch04/two_layer_net.py\n",
    "import sys, os\n",
    "sys.path.append(os.pardir)\n",
    "from common.functions import *\n",
    "from common.gradient import numerical_gradient\n",
    "\n",
    "# 기존의 TwoLayerNet을 수정하여 numerical/analytical gradient를 선택할 수 있게 하였다.\n",
    "# 생성변수 grad_comp_mode 가 'analytical' 이면 analytical_gradient 함수를 사용하고\n",
    "# 'numerical' 이면 numerical_gradient 함수를 사용한다.\n",
    "# 참고: analytical_gradient가 훨씬 빠르다\n",
    "\n",
    "class TwoLayerNet:\n",
    "    def __init__(self, input_size, hidden_size, output_size, weight_init_std=0.01, \\\n",
    "                 grad_comp_mode='analytical'):\n",
    "        # 가중치 초기화\n",
    "        self.params = {}\n",
    "        self.params['W1'] = weight_init_std * np.random.randn(input_size, hidden_size)\n",
    "        self.params['b1'] = np.zeros(hidden_size)\n",
    "        self.params['W2'] = weight_init_std * np.random.randn(hidden_size, output_size)\n",
    "        self.params['b2'] = np.zeros(output_size)\n",
    "        \n",
    "        # gradient computation mode setting\n",
    "        if grad_comp_mode == 'analytical':\n",
    "            self.gradient = self._analytical_gradient\n",
    "        elif grad_comp_mode == 'numerical':\n",
    "            self.gradient = self._numerical_gradient       \n",
    "        else:\n",
    "            print('unknown grad_comp_mode ', grad_comp_mode, 'using analytical_gradient')\n",
    "            self.gradient = self._analytical_gradient\n",
    "        \n",
    "    def predict(self, x):\n",
    "        W1, W2 = self.params['W1'], self.params['W2']\n",
    "        b1, b2 = self.params['b1'], self.params['b2']\n",
    "        \n",
    "        a1 = np.dot(x, W1) + b1\n",
    "        z1 = sigmoid(a1)\n",
    "        a2 = np.dot(z1, W2) + b2\n",
    "        y = softmax(a2)\n",
    "        return y\n",
    "    \n",
    "    # x: 입력 데이터, t: 정답 레이블\n",
    "    def loss(self, x, t):\n",
    "        y = self.predict(x)\n",
    "        return cross_entropy_error(y, t)\n",
    "    \n",
    "    def accuracy(self, x, t):\n",
    "        y = self.predict(x)       # softmax y (N,c)\n",
    "        y = np.argmax(y, axis=1)  # int (N,1)\n",
    "        t = np.argmax(t, axis=1)  # int index (N,1)\n",
    "        \n",
    "        accuracy = np.sum(y == t) / float(x.shape[0])\n",
    "        # sum of number_of_correct / number_of_samples\n",
    "        return accuracy\n",
    "    \n",
    "    # x: 입력 데이터, t: 정답 레이블\n",
    "    def _numerical_gradient(self, x, t):\n",
    "        loss_W = lambda W: self.loss(x, t)\n",
    "        \n",
    "        grads = {}\n",
    "        grads['W1'] = numerical_gradient(loss_W, self.params['W1'])\n",
    "        grads['b1'] = numerical_gradient(loss_W, self.params['b1'])\n",
    "        grads['W2'] = numerical_gradient(loss_W, self.params['W2'])\n",
    "        grads['b2'] = numerical_gradient(loss_W, self.params['b2'])\n",
    "        return grads\n",
    "    \n",
    "    # 오차 역전파법(backpropagation)으로 구한 gradient를 사용하는 방법\n",
    "    # 5장에서 설명함\n",
    "    def _analytical_gradient(self, x, t):\n",
    "        W1, W2 = self.params['W1'], self.params['W2']\n",
    "        b1, b2 = self.params['b1'], self.params['b2']\n",
    "        grads = {}\n",
    "        \n",
    "        batch_num = x.shape[0]\n",
    "        \n",
    "        # forward prediction\n",
    "        a1 = np.dot(x, W1) + b1\n",
    "        z1 = sigmoid(a1)\n",
    "        a2 = np.dot(z1, W2) + b2\n",
    "        y = softmax(a2)\n",
    "        \n",
    "        # backward gradient descent\n",
    "        dy = (y - t) / batch_num\n",
    "        grads['W2'] = np.dot(z1.T, dy)\n",
    "        grads['b2'] = np.sum(dy, axis=0)\n",
    "        \n",
    "        da1 = np.dot(dy, W2.T)\n",
    "        dz1 = sigmoid_grad(a1) * da1\n",
    "        grads['W1'] = np.dot(x.T, dz1)\n",
    "        grads['b1'] = np.sum(dz1, axis=0)\n",
    "\n",
    "        return grads   # {'W1': 784x100, 'b1': 100, 'W2': 100x10, 'b2':10}"
   ]
  },
  {
   "cell_type": "code",
   "execution_count": 33,
   "metadata": {},
   "outputs": [
    {
     "name": "stdout",
     "output_type": "stream",
     "text": [
      "(784, 100) (100,) (100, 10) (10,)\n",
      "[analytical]: Elapsed time: 0.01 second(s)\n",
      "(784, 100) (100,) (100, 10) (10,)\n",
      "[numerical]: Elapsed time: 27.18 second(s)\n"
     ]
    }
   ],
   "source": [
    "# numerical_gradient와 analytical_gradient 의 연산시간을 비교한다\n",
    "import time\n",
    "\n",
    "x = np.random.rand(1, 784)  # 더미 입력 데이터(1장 분량)\n",
    "t = np.random.rand(1, 10)  # 더미 정답 레이블(1장 분량)\n",
    "\n",
    "for mode in ['analytical', 'numerical']:\n",
    "    start = time.time()\n",
    "    net_tmp = TwoLayerNet(input_size=784, hidden_size=100, output_size=10, grad_comp_mode=mode)\n",
    "    grads = net_tmp.gradient(x, t)  # 기울기 계산\n",
    "    print(grads['W1'].shape, grads['b1'].shape, grads['W2'].shape, grads['b2'].shape)\n",
    "    print('[%s]: Elapsed time: %.2f second(s)' % (mode, time.time()-start))"
   ]
  },
  {
   "cell_type": "code",
   "execution_count": 34,
   "metadata": {},
   "outputs": [
    {
     "name": "stdout",
     "output_type": "stream",
     "text": [
      "(784, 100) (100,) (100, 10) (10,)\n"
     ]
    }
   ],
   "source": [
    "net = TwoLayerNet(input_size=784, hidden_size=100, output_size=10, grad_comp_mode='analytical')\n",
    "print(net.params['W1'].shape, net.params['b1'].shape, net.params['W2'].shape, net.params['b2'].shape)"
   ]
  },
  {
   "cell_type": "markdown",
   "metadata": {},
   "source": [
    " "
   ]
  },
  {
   "cell_type": "markdown",
   "metadata": {},
   "source": [
    "### 4.5.2 미니배치 학습 구현하기\n",
    "\n",
    "훈련 데이터 중 일부(`batch size`)를 무작위로 꺼내고(`stochastic`), 그 미니배치(`mini batch`)에 대하여 경사법으로 매개변수를 갱신한다. `TwoLayerNet` 클래스와 `MNIST` 데이터셋을 이요아여 학습을 수행한다. \n",
    "\n",
    "코드는 [train_neuralnet.py](https://github.com/WegraLee/deep-learning-from-scratch/blob/master/ch04/train_neuralnet.py)를 참고하였다."
   ]
  },
  {
   "cell_type": "code",
   "execution_count": 35,
   "metadata": {},
   "outputs": [
    {
     "name": "stdout",
     "output_type": "stream",
     "text": [
      "Done in 10000 steps: Train loss 0.14127 28.83 sec\n"
     ]
    }
   ],
   "source": [
    "# source: train_neuralnet.py at \n",
    "# https://github.com/WegraLee/deep-learning-from-scratch/blob/master/ch04/train_neuralnet.py\n",
    "import numpy as np\n",
    "from dataset.mnist import load_mnist\n",
    "import time\n",
    "start = time.time()\n",
    "\n",
    "(x_train, t_train), (x_test, t_test) = \\\n",
    "load_mnist(normalize=True, one_hot_label=True)\n",
    "\n",
    "# 하이퍼파라미터\n",
    "iters_num = 10000 # 반복 횟수\n",
    "train_size = x_train.shape[0]\n",
    "batch_size = 100  # 미니배치 크기\n",
    "learning_rate = 0.1\n",
    "\n",
    "# 저장할 리스트 정의\n",
    "train_loss_list = []\n",
    "\n",
    "# 네트워크 생성\n",
    "network = TwoLayerNet(input_size=784, hidden_size=50, output_size=10)\n",
    "\n",
    "for step in range(iters_num):\n",
    "    # Mini-Batch\n",
    "    batch_mask = np.random.choice(train_size, batch_size)\n",
    "    x_batch = x_train[batch_mask]\n",
    "    t_batch = t_train[batch_mask]\n",
    "    \n",
    "    # 기울기 계산\n",
    "    grad = network.gradient(x_batch, t_batch)\n",
    "    # {'W1': 784x100, 'b1': 100, 'W2': 100x10, 'b2':10}\n",
    "    \n",
    "    # 매개변수 갱신\n",
    "    for key in ('W1', 'b1', 'W2', 'b2'):\n",
    "        network.params[key] -= learning_rate * grad[key]\n",
    "        \n",
    "    # 학습 과정 기록\n",
    "    loss = network.loss(x_batch, t_batch)\n",
    "    train_loss_list.append(loss)\n",
    "\n",
    "print(\"Done in {} steps: Train loss {:.5f} {:.2f} sec\".\\\n",
    "      format(iters_num, train_loss_list[-1], time.time()-start))            "
   ]
  },
  {
   "cell_type": "markdown",
   "metadata": {},
   "source": [
    "> **NOTE:** **에포크(epoch)**는 학습의 단위이다. 1에포크는 학습에서 훈련 데이터를 모두 사용하는 회수에 해당된다. 예를 들어 훈련 데이터 10,000개를 100개의 미니배치로 학습할 경우, 확률적 경사 하강법을 100회 반복하면 모든 훈련 데이터를 사용하게 된다. 이 경우 100회가 1에포크가 된다. "
   ]
  },
  {
   "cell_type": "code",
   "execution_count": 36,
   "metadata": {},
   "outputs": [
    {
     "data": {
      "image/png": "[encoded data removed]",
      "text/plain": [
       "<Figure size 720x360 with 1 Axes>"
      ]
     },
     "metadata": {},
     "output_type": "display_data"
    }
   ],
   "source": [
    "# loss 그래프 그리기\n",
    "%matplotlib inline\n",
    "import matplotlib.pyplot as plt\n",
    "import numpy as np\n",
    "from IPython.core.pylabtools import figsize\n",
    "\n",
    "x_loss = np.arange(len(train_loss_list))\n",
    "figsize(10, 5)\n",
    "plt.plot(x_loss, train_loss_list)\n",
    "plt.xlabel(\"iteration\")\n",
    "plt.ylabel(\"loss\")\n",
    "plt.show()"
   ]
  },
  {
   "cell_type": "markdown",
   "metadata": {},
   "source": [
    "### 4.5.3 시험 데이터로 평가하기\n",
    "\n",
    "학습 회수가 늘어가면서 손실 함수의 값이 서서히 내려간다. **신경망의 학습은 되고 있는** 것은 확인할 수 있지만 **얼마나 잘 하고 있는지**, 특히 훈련에 참여하지 않는 데이터에 대한 직접적인 **정확도**는 알 수 없다. 따라서 다음과 같이 **시험 데이터**에 대한 직접적인 성능평가를 추가하였다."
   ]
  },
  {
   "cell_type": "code",
   "execution_count": 37,
   "metadata": {},
   "outputs": [
    {
     "name": "stdout",
     "output_type": "stream",
     "text": [
      "Step 0600: Train Acc 0.78050, Test Acc 0.78560, 2.03 sec\n",
      "Step 1200: Train Acc 0.87647, Test Acc 0.88120, 4.29 sec\n",
      "Step 1800: Train Acc 0.89633, Test Acc 0.90040, 6.22 sec\n",
      "Step 2400: Train Acc 0.90723, Test Acc 0.91030, 8.28 sec\n",
      "Step 3000: Train Acc 0.91392, Test Acc 0.91480, 10.34 sec\n",
      "Step 3600: Train Acc 0.91917, Test Acc 0.91990, 12.36 sec\n",
      "Step 4200: Train Acc 0.92343, Test Acc 0.92370, 14.56 sec\n",
      "Step 4800: Train Acc 0.92660, Test Acc 0.92740, 16.66 sec\n",
      "Step 5400: Train Acc 0.93028, Test Acc 0.93050, 18.82 sec\n",
      "Step 6000: Train Acc 0.93285, Test Acc 0.93230, 20.70 sec\n",
      "Step 6600: Train Acc 0.93613, Test Acc 0.93550, 22.78 sec\n",
      "Step 7200: Train Acc 0.93772, Test Acc 0.93680, 25.22 sec\n",
      "Step 7800: Train Acc 0.94035, Test Acc 0.93930, 27.68 sec\n",
      "Step 8400: Train Acc 0.94208, Test Acc 0.94100, 29.62 sec\n",
      "Step 9000: Train Acc 0.94443, Test Acc 0.94310, 31.90 sec\n",
      "Step 9600: Train Acc 0.94588, Test Acc 0.94310, 33.92 sec\n",
      "Done in 10000 steps: Train Acc 0.94588, Test Acc 0.94310, 35.01 sec\n"
     ]
    }
   ],
   "source": [
    "import numpy as np\n",
    "from dataset.mnist import load_mnist\n",
    "import time\n",
    "start = time.time()\n",
    "\n",
    "(x_train, t_train), (x_test, t_test) = \\\n",
    "load_mnist(normalize=True, one_hot_label=True)\n",
    "\n",
    "# 하이퍼파라미터\n",
    "iters_num = 10000 # 반복 횟수\n",
    "train_size = x_train.shape[0]\n",
    "batch_size = 100  # 미니배치 크기\n",
    "learning_rate = 0.1\n",
    "\n",
    "# 저장할 리스트 정의\n",
    "train_loss_list = []\n",
    "train_acc_list = []\n",
    "test_acc_list = []\n",
    "\n",
    "# 1 에폭당 반복 수\n",
    "iter_per_epoch = int(train_size / batch_size)   # train_size // batch_size\n",
    "\n",
    "network = TwoLayerNet(input_size=784, hidden_size=50, output_size=10)\n",
    "\n",
    "##########################################################################\n",
    "# 코드를 간단히 하기 위하여 함수로 batch learning step을 정의하였다.\n",
    "# 위에 정의된 변수들을 대부분 사용하기 때문에 따로 전달할 필요가 없다.\n",
    "def minibatch_step(network, step, iter_per_epoch):\n",
    "    # Mini-Batch\n",
    "    batch_mask = np.random.choice(train_size, batch_size)\n",
    "    x_batch = x_train[batch_mask]\n",
    "    t_batch = t_train[batch_mask]\n",
    "    \n",
    "    # 기울기 계산\n",
    "    grad = network.gradient(x_batch, t_batch)\n",
    "    # {'W1': 784x100, 'b1': 100, 'W2': 100x10, 'b2':10}\n",
    "    \n",
    "    # 매개변수 갱신\n",
    "    for key in ('W1', 'b1', 'W2', 'b2'):\n",
    "        network.params[key] -= learning_rate * grad[key]\n",
    "        \n",
    "    # 학습 과정 기록\n",
    "    loss = network.loss(x_batch, t_batch)\n",
    "    train_loss_list.append(loss)\n",
    "    \n",
    "    # 1 epoch 당 정확도 계산\n",
    "    if (step+1) % iter_per_epoch == 0:\n",
    "        train_acc = network.accuracy(x_train, t_train)\n",
    "        test_acc = network.accuracy(x_test, t_test)\n",
    "        train_acc_list.append(train_acc)\n",
    "        test_acc_list.append(test_acc)\n",
    "        print(\"Step {:04d}: Train Acc {:.5f}, Test Acc {:.5f}, {:.2f} sec\".\\\n",
    "              format(step+1, train_acc, test_acc, time.time()-start))\n",
    "##########################################################################\n",
    "        \n",
    "for step in range(iters_num):\n",
    "    minibatch_step(network, step, iter_per_epoch)\n",
    "\n",
    "print(\"Done in {} steps: Train Acc {:.5f}, Test Acc {:.5f}, {:.2f} sec\".\\\n",
    "      format(iters_num, train_acc_list[-1], test_acc_list[-1], time.time()-start))                "
   ]
  },
  {
   "cell_type": "code",
   "execution_count": 38,
   "metadata": {},
   "outputs": [
    {
     "data": {
      "image/png": "[encoded data removed]",
      "text/plain": [
       "<Figure size 720x360 with 2 Axes>"
      ]
     },
     "metadata": {},
     "output_type": "display_data"
    }
   ],
   "source": [
    "%matplotlib inline\n",
    "import matplotlib.pyplot as plt\n",
    "from IPython.core.pylabtools import figsize\n",
    "\n",
    "figsize(10, 5)\n",
    "markers = {'train': 'o', 'test': 's'}\n",
    "fig = plt.figure()\n",
    "ax1 = fig.add_subplot(1, 2, 1)\n",
    "ax2 = fig.add_subplot(1, 2, 2)\n",
    "\n",
    "x_loss = np.arange(len(train_loss_list))\n",
    "ax1.plot(x_loss, train_loss_list)\n",
    "ax1.set_xlabel(\"iteration\")\n",
    "ax1.set_ylabel(\"loss\")\n",
    "\n",
    "x_acc = np.arange(len(train_acc_list))\n",
    "ax2.plot(x_acc, train_acc_list, label='train acc')\n",
    "ax2.plot(x_acc, test_acc_list, label='test acc', linestyle='--')\n",
    "ax2.set_xlabel(\"epochs\")\n",
    "ax2.set_ylabel(\"accuracy\")\n",
    "ax2.set_ylim(0, 1.0)\n",
    "ax2.legend(loc='lower right')\n",
    "plt.tight_layout()\n",
    "plt.show()"
   ]
  },
  {
   "cell_type": "markdown",
   "metadata": {},
   "source": [
    " "
   ]
  },
  {
   "cell_type": "markdown",
   "metadata": {},
   "source": [
    "**Optional Run** numerical gradient의 실행시간을 비교하여 보자. 매우 매우 매우 오래 걸린다."
   ]
  },
  {
   "cell_type": "code",
   "execution_count": 39,
   "metadata": {},
   "outputs": [
    {
     "name": "stdout",
     "output_type": "stream",
     "text": [
      "Step 0001: Train Acc 0.10833, Test Acc 0.10090, 64.12 sec\n",
      "Step 0002: Train Acc 0.13167, Test Acc 0.11350, 92.40 sec\n",
      "Step 0003: Train Acc 0.13167, Test Acc 0.11350, 121.04 sec\n",
      "Step 0004: Train Acc 0.10667, Test Acc 0.10320, 149.65 sec\n",
      "Step 0005: Train Acc 0.13167, Test Acc 0.11350, 177.95 sec\n",
      "Step 0006: Train Acc 0.13167, Test Acc 0.11350, 206.31 sec\n",
      "Step 0007: Train Acc 0.13167, Test Acc 0.11350, 234.69 sec\n",
      "Step 0008: Train Acc 0.13167, Test Acc 0.11350, 263.21 sec\n",
      "Step 0009: Train Acc 0.13167, Test Acc 0.11350, 292.07 sec\n",
      "Step 0010: Train Acc 0.13167, Test Acc 0.11350, 320.41 sec\n",
      "Step 0011: Train Acc 0.13167, Test Acc 0.11350, 348.84 sec\n",
      "Step 0012: Train Acc 0.13167, Test Acc 0.11350, 377.04 sec\n",
      "Step 0013: Train Acc 0.13167, Test Acc 0.11350, 405.78 sec\n",
      "Step 0014: Train Acc 0.13167, Test Acc 0.11350, 434.41 sec\n",
      "Step 0015: Train Acc 0.13167, Test Acc 0.11350, 463.04 sec\n",
      "Step 0016: Train Acc 0.13167, Test Acc 0.11350, 491.60 sec\n",
      "Step 0017: Train Acc 0.13167, Test Acc 0.11350, 520.16 sec\n",
      "Step 0018: Train Acc 0.13167, Test Acc 0.11350, 548.68 sec\n",
      "Step 0019: Train Acc 0.13167, Test Acc 0.11350, 576.99 sec\n",
      "Step 0020: Train Acc 0.13167, Test Acc 0.11350, 605.82 sec\n",
      "Step 0021: Train Acc 0.13167, Test Acc 0.11350, 634.54 sec\n",
      "Step 0022: Train Acc 0.13167, Test Acc 0.11350, 663.13 sec\n",
      "Step 0023: Train Acc 0.13167, Test Acc 0.11350, 691.64 sec\n",
      "Step 0024: Train Acc 0.13167, Test Acc 0.11350, 720.36 sec\n",
      "Step 0025: Train Acc 0.13167, Test Acc 0.11350, 748.65 sec\n",
      "Step 0026: Train Acc 0.13167, Test Acc 0.11350, 777.03 sec\n",
      "Step 0027: Train Acc 0.13167, Test Acc 0.11350, 805.59 sec\n",
      "Step 0028: Train Acc 0.13167, Test Acc 0.11370, 834.03 sec\n",
      "Step 0029: Train Acc 0.13167, Test Acc 0.11350, 863.12 sec\n",
      "Step 0030: Train Acc 0.13167, Test Acc 0.11350, 892.60 sec\n",
      "numerical gradient done in 10000 steps: Train Acc 0.13167, Test Acc 0.11350, 892.60 sec\n"
     ]
    }
   ],
   "source": [
    "# 데이터를 1/100로 줄이고 (60000 -> 600)\n",
    "# iteration 수도 10000 -> 30으로 줄인다.\n",
    "\n",
    "train_size = x_train.shape[0] // 100 \n",
    "(x_train, t_train) = (x_train[:train_size], t_train[:train_size])\n",
    "\n",
    "network = TwoLayerNet(input_size=784, hidden_size=50, output_size=10, grad_comp_mode='numerical')\n",
    "for step in range(30):  \n",
    "    minibatch_step(network, step, 1)\n",
    "    \n",
    "print(\"numerical gradient done in {} steps: Train Acc {:.5f}, Test Acc {:.5f}, {:.2f} sec\".\\\n",
    "      format(iters_num, train_acc_list[-1], test_acc_list[-1], time.time()-start))                "
   ]
  },
  {
   "cell_type": "markdown",
   "metadata": {},
   "source": [
    " "
   ]
  },
  {
   "cell_type": "markdown",
   "metadata": {},
   "source": [
    "## 4.6 정리\n",
    "\n",
    "\n",
    "- 기계학습에서 사용하는 데이터셋은 훈련 데이터와 시험 데이터로 나눠 사용한다.\n",
    "- 훈련 데이터에서 학습한 모델의 범용 능력을 시험 데이터로 평가한다.\n",
    "- 신경망 학습은 손실 함수를 지표로, 손실 함수의 값이 작아지는 방향으로 가중치 매개변수를 갱신한다. 가중치 매개변수를 갱신할 때는 가중치 매개변수의 기울기를 이용하고, 기울어진 방향으로 가중치의 값을 갱신하는 작업을 반복한다.\n",
    "- 아주 작은 값을 주었을 때의 차분으로 미분을 구하는 것을 수치 미분이라고 한다.\n",
    "- 수치 미분을 이용해 가중치 매개변수의 기울기를 구할 수 있다."
   ]
  }
 ],
 "metadata": {
  "kernelspec": {
   "display_name": "Python 3",
   "language": "python",
   "name": "python3"
  },
  "language_info": {
   "codemirror_mode": {
    "name": "ipython",
    "version": 3
   },
   "file_extension": ".py",
   "mimetype": "text/x-python",
   "name": "python",
   "nbconvert_exporter": "python",
   "pygments_lexer": "ipython3",
   "version": "3.6.9"
  }
 },
 "nbformat": 4,
 "nbformat_minor": 2
}
